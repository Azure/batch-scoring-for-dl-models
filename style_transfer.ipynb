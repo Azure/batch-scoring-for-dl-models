{
 "cells": [
  {
   "cell_type": "markdown",
   "metadata": {},
   "source": [
    "# How to use Azure to do Style Transfer on a Video"
   ]
  },
  {
   "cell_type": "markdown",
   "metadata": {},
   "source": [
    "This tutorial will take you through how to take a video, and apply style transfer onto every frame of the video, using Azure."
   ]
  },
  {
   "cell_type": "markdown",
   "metadata": {},
   "source": [
    "Inside __/pytorch/images__, you should find a __/style_images__ folder and a __/sample_content_images__ folder.\n",
    "\n",
    "- Inside the __/style_images__ folder is an image of Vangogh painting (titled, __sample_vangogh.jpg__) that we will be using as our sample style image. \n",
    "- Inside the __/sample_content_images__ folder, which we will use solely for the purposes of testing locally, there are 4 sample images that we will use to apply the style onto. (images are titled, __sample_%1.jpg__)\n",
    "\n",
    "The interactive notebook (__style_transfer_interactive.ipynb__) and the script (__style_transfer_script.py__) will using the above directories."
   ]
  },
  {
   "cell_type": "markdown",
   "metadata": {},
   "source": [
    "## (Optional) Tuning the style transfer hyperparameters interactively"
   ]
  },
  {
   "cell_type": "markdown",
   "metadata": {},
   "source": [
    "The first thing we want to do is to test the style transfer scripts locally and make sure the hyper parameters are set appropriately. This will be done using the __style_transfer_interactive.ipynb__ notebook."
   ]
  },
  {
   "cell_type": "markdown",
   "metadata": {},
   "source": [
    "Open the notebook __/pytorch/style_transfer_interactive.ipynb__ and tune the variables following variables as desired: \n",
    "\n",
    "- STYLE_WEIGHT = 10**8\n",
    "- CONTENT_WEIGHT = 10**0\n",
    "- NUM_STEPS = 100\n",
    "\n",
    "*the defaults shown above _tend_ to work nicely for most images."
   ]
  },
  {
   "cell_type": "markdown",
   "metadata": {},
   "source": [
    "## Testing the style transfer script locally"
   ]
  },
  {
   "cell_type": "markdown",
   "metadata": {},
   "source": [
    "Lets make sure that our style transfer script is running correctly on our local machine. First we need to create the directory to store the output images."
   ]
  },
  {
   "cell_type": "code",
   "execution_count": 40,
   "metadata": {},
   "outputs": [],
   "source": [
    "%%bash\n",
    "mkdir pytorch/images/sample_output_images"
   ]
  },
  {
   "cell_type": "markdown",
   "metadata": {},
   "source": [
    "If you changed the hyperparameters in the above section and would like to apply it, you can use the following variables: `--style-weight`, `--content-weight`, and/or `--num-steps`"
   ]
  },
  {
   "cell_type": "code",
   "execution_count": 1,
   "metadata": {},
   "outputs": [
    {
     "name": "stdout",
     "output_type": "stream",
     "text": [
      "2018-08-30 02:07:25,592 - __main__ - DEBUG - Images to process: 1\n",
      "2018-08-30 02:07:25,592 - __main__ - DEBUG - GPU detected: True, image size: 360\n",
      "2018-08-30 02:07:28,956 - __main__ - DEBUG - Time (in seconds) to load style image: 3.362901\n",
      "2018-08-30 02:07:30,558 - __main__ - DEBUG - Time (in seconds) to load VGG19 model: 1.602304\n",
      "2018-08-30 02:07:30,608 - __main__ - DEBUG - Running Style Transfer on sample_0.jpg\n",
      "2018-08-30 02:07:43,211 - __main__ - DEBUG - Time (in seconds) to apply style-transfer to batch of 1 images: 12.652457\n",
      "2018-08-30 02:07:43,211 - __main__ - DEBUG - Average Time (in seconds) to apply style-transfer to each image: 12.652457\n"
     ]
    }
   ],
   "source": [
    "%%bash\n",
    "cd pytorch &&\n",
    "    python style_transfer_script.py \\\n",
    "    --style-image ./images/style_images/sample_renior.jpg \\\n",
    "    --content-image-dir ./images/sample_content_images \\\n",
    "    --content-image-list 'sample_0.jpg' \\\n",
    "    --output-image-dir ./images/sample_output_images \\\n",
    "    --style-weight $STYLE_WEIGHT \\\n",
    "    --content-weight $CONTENT_WEIGHT \\\n",
    "    --num-steps $NUM_STEPS \\\n",
    "    --image-size $IMAGE_SIZE \\\n",
    "    --log-file 'sample_style_transfer_script'"
   ]
  },
  {
   "cell_type": "markdown",
   "metadata": {},
   "source": [
    "We can now inspect the output directory to make sure that the output images are there."
   ]
  },
  {
   "cell_type": "code",
   "execution_count": 2,
   "metadata": {},
   "outputs": [
    {
     "name": "stdout",
     "output_type": "stream",
     "text": [
      "sample_0.jpg\n",
      "sample_1.jpg\n",
      "sample_2.jpg\n",
      "sample_3.jpg\n"
     ]
    }
   ],
   "source": [
    "%%bash\n",
    "ls pytorch/images/sample_output_images"
   ]
  },
  {
   "cell_type": "markdown",
   "metadata": {},
   "source": [
    "Lets see what one of those images look like:\n",
    "\n",
    "![sample_0](pytorch/images/sample_output_images/sample_0.jpg)"
   ]
  },
  {
   "cell_type": "markdown",
   "metadata": {},
   "source": [
    "## Setup your video for batch style transfer"
   ]
  },
  {
   "cell_type": "markdown",
   "metadata": {},
   "source": [
    "### Download Video: \n",
    "\n",
    "The first thing we need to do is to download a video that we would like to apply style transfer onto. To do so, we'll download a short climbing video that I preloaded into a public Blob Storage.\n",
    "\n",
    "*Feel free to manually place your own video (mp4) file into that directory instead of downloading the climbing video..."
   ]
  },
  {
   "cell_type": "code",
   "execution_count": 4,
   "metadata": {},
   "outputs": [],
   "source": [
    "%%bash\n",
    "mkdir pytorch/video"
   ]
  },
  {
   "cell_type": "code",
   "execution_count": 10,
   "metadata": {},
   "outputs": [
    {
     "name": "stdout",
     "output_type": "stream",
     "text": [
      "env: VIDEO_NAME=orangutan\n"
     ]
    }
   ],
   "source": [
    "%set_env VIDEO_NAME=orangutan"
   ]
  },
  {
   "cell_type": "code",
   "execution_count": 3,
   "metadata": {},
   "outputs": [
    {
     "name": "stderr",
     "output_type": "stream",
     "text": [
      "--2018-08-29 14:53:12--  https://happypathspublic.blob.core.windows.net/videos/orangutan.mp4\n",
      "Resolving happypathspublic.blob.core.windows.net (happypathspublic.blob.core.windows.net)... 52.239.214.164\n",
      "Connecting to happypathspublic.blob.core.windows.net (happypathspublic.blob.core.windows.net)|52.239.214.164|:443... connected.\n",
      "HTTP request sent, awaiting response... 200 OK\n",
      "Length: 7961293 (7.6M) [video/mp4]\n",
      "Saving to: ‘orangutan.mp4’\n",
      "\n",
      "     0K .......... .......... .......... .......... ..........  0% 4.68M 2s\n",
      "    50K .......... .......... .......... .......... ..........  1% 4.66M 2s\n",
      "   100K .......... .......... .......... .......... ..........  1% 9.23M 1s\n",
      "   150K .......... .......... .......... .......... ..........  2% 9.16M 1s\n",
      "   200K .......... .......... .......... .......... ..........  3%  242M 1s\n",
      "   250K .......... .......... .......... .......... ..........  3% 9.36M 1s\n",
      "   300K .......... .......... .......... .......... ..........  4% 9.90M 1s\n",
      "   350K .......... .......... .......... .......... ..........  5%  141M 1s\n",
      "   400K .......... .......... .......... .......... ..........  5% 9.95M 1s\n",
      "   450K .......... .......... .......... .......... ..........  6%  129M 1s\n",
      "   500K .......... .......... .......... .......... ..........  7%  231M 1s\n",
      "   550K .......... .......... .......... .......... ..........  7% 10.3M 1s\n",
      "   600K .......... .......... .......... .......... ..........  8%  244M 1s\n",
      "   650K .......... .......... .......... .......... ..........  9%  115M 1s\n",
      "   700K .......... .......... .......... .......... ..........  9% 10.7M 1s\n",
      "   750K .......... .......... .......... .......... .......... 10%  204M 1s\n",
      "   800K .......... .......... .......... .......... .......... 10%  115M 0s\n",
      "   850K .......... .......... .......... .......... .......... 11%  272M 0s\n",
      "   900K .......... .......... .......... .......... .......... 12% 10.6M 0s\n",
      "   950K .......... .......... .......... .......... .......... 12%  250M 0s\n",
      "  1000K .......... .......... .......... .......... .......... 13%  111M 0s\n",
      "  1050K .......... .......... .......... .......... .......... 14%  263M 0s\n",
      "  1100K .......... .......... .......... .......... .......... 14% 10.9M 0s\n",
      "  1150K .......... .......... .......... .......... .......... 15%  182M 0s\n",
      "  1200K .......... .......... .......... .......... .......... 16%  193M 0s\n",
      "  1250K .......... .......... .......... .......... .......... 16%  226M 0s\n",
      "  1300K .......... .......... .......... .......... .......... 17%  284M 0s\n",
      "  1350K .......... .......... .......... .......... .......... 18% 10.7M 0s\n",
      "  1400K .......... .......... .......... .......... .......... 18%  180M 0s\n",
      "  1450K .......... .......... .......... .......... .......... 19%  199M 0s\n",
      "  1500K .......... .......... .......... .......... .......... 19%  106M 0s\n",
      "  1550K .......... .......... .......... .......... .......... 20%  142M 0s\n",
      "  1600K .......... .......... .......... .......... .......... 21% 12.6M 0s\n",
      "  1650K .......... .......... .......... .......... .......... 21%  109M 0s\n",
      "  1700K .......... .......... .......... .......... .......... 22%  232M 0s\n",
      "  1750K .......... .......... .......... .......... .......... 23%  207M 0s\n",
      "  1800K .......... .......... .......... .......... .......... 23%  170M 0s\n",
      "  1850K .......... .......... .......... .......... .......... 24%  291M 0s\n",
      "  1900K .......... .......... .......... .......... .......... 25% 12.6M 0s\n",
      "  1950K .......... .......... .......... .......... .......... 25%  187M 0s\n",
      "  2000K .......... .......... .......... .......... .......... 26%  231M 0s\n",
      "  2050K .......... .......... .......... .......... .......... 27%  107M 0s\n",
      "  2100K .......... .......... .......... .......... .......... 27%  197M 0s\n",
      "  2150K .......... .......... .......... .......... .......... 28%  204M 0s\n",
      "  2200K .......... .......... .......... .......... .......... 28%  277M 0s\n",
      "  2250K .......... .......... .......... .......... .......... 29% 13.7M 0s\n",
      "  2300K .......... .......... .......... .......... .......... 30%  206M 0s\n",
      "  2350K .......... .......... .......... .......... .......... 30%  187M 0s\n",
      "  2400K .......... .......... .......... .......... .......... 31% 63.3M 0s\n",
      "  2450K .......... .......... .......... .......... .......... 32%  298M 0s\n",
      "  2500K .......... .......... .......... .......... .......... 32%  174M 0s\n",
      "  2550K .......... .......... .......... .......... .......... 33%  227M 0s\n",
      "  2600K .......... .......... .......... .......... .......... 34%  308M 0s\n",
      "  2650K .......... .......... .......... .......... .......... 34% 15.5M 0s\n",
      "  2700K .......... .......... .......... .......... .......... 35%  112M 0s\n",
      "  2750K .......... .......... .......... .......... .......... 36%  176M 0s\n",
      "  2800K .......... .......... .......... .......... .......... 36%  288M 0s\n",
      "  2850K .......... .......... .......... .......... .......... 37% 97.9M 0s\n",
      "  2900K .......... .......... .......... .......... .......... 37%  183M 0s\n",
      "  2950K .......... .......... .......... .......... .......... 38%  164M 0s\n",
      "  3000K .......... .......... .......... .......... .......... 39%  231M 0s\n",
      "  3050K .......... .......... .......... .......... .......... 39%  272M 0s\n",
      "  3100K .......... .......... .......... .......... .......... 40% 16.8M 0s\n",
      "  3150K .......... .......... .......... .......... .......... 41% 48.5M 0s\n",
      "  3200K .......... .......... .......... .......... .......... 41%  107M 0s\n",
      "  3250K .......... .......... .......... .......... .......... 42%  187M 0s\n",
      "  3300K .......... .......... .......... .......... .......... 43%  213M 0s\n",
      "  3350K .......... .......... .......... .......... .......... 43%  203M 0s\n",
      "  3400K .......... .......... .......... .......... .......... 44%  206M 0s\n",
      "  3450K .......... .......... .......... .......... .......... 45%  316M 0s\n",
      "  3500K .......... .......... .......... .......... .......... 45%  290M 0s\n",
      "  3550K .......... .......... .......... .......... .......... 46%  257M 0s\n",
      "  3600K .......... .......... .......... .......... .......... 46%  312M 0s\n",
      "  3650K .......... .......... .......... .......... .......... 47% 20.9M 0s\n",
      "  3700K .......... .......... .......... .......... .......... 48% 63.0M 0s\n",
      "  3750K .......... .......... .......... .......... .......... 48%  171M 0s\n",
      "  3800K .......... .......... .......... .......... .......... 49%  137M 0s\n",
      "  3850K .......... .......... .......... .......... .......... 50%  217M 0s\n",
      "  3900K .......... .......... .......... .......... .......... 50%  214M 0s\n",
      "  3950K .......... .......... .......... .......... .......... 51%  195M 0s\n",
      "  4000K .......... .......... .......... .......... .......... 52%  306M 0s\n",
      "  4050K .......... .......... .......... .......... .......... 52% 4.12M 0s\n",
      "  4100K .......... .......... .......... .......... .......... 53%  138M 0s\n",
      "  4150K .......... .......... .......... .......... .......... 54%  293M 0s\n",
      "  4200K .......... .......... .......... .......... .......... 54%  290M 0s\n",
      "  4250K .......... .......... .......... .......... .......... 55%  169M 0s\n",
      "  4300K .......... .......... .......... .......... .......... 55%  311M 0s\n",
      "  4350K .......... .......... .......... .......... .......... 56%  184M 0s\n",
      "  4400K .......... .......... .......... .......... .......... 57%  172M 0s\n",
      "  4450K .......... .......... .......... .......... .......... 57%  326M 0s\n",
      "  4500K .......... .......... .......... .......... .......... 58% 93.9M 0s\n",
      "  4550K .......... .......... .......... .......... .......... 59%  325M 0s\n",
      "  4600K .......... .......... .......... .......... .......... 59%  285M 0s\n",
      "  4650K .......... .......... .......... .......... .......... 60%  328M 0s\n",
      "  4700K .......... .......... .......... .......... .......... 61% 19.2M 0s\n",
      "  4750K .......... .......... .......... .......... .......... 61%  202M 0s\n",
      "  4800K .......... .......... .......... .......... .......... 62%  215M 0s\n",
      "  4850K .......... .......... .......... .......... .......... 63%  204M 0s\n",
      "  4900K .......... .......... .......... .......... .......... 63%  232M 0s\n",
      "  4950K .......... .......... .......... .......... .......... 64%  211M 0s\n",
      "  5000K .......... .......... .......... .......... .......... 64%  209M 0s\n",
      "  5050K .......... .......... .......... .......... .......... 65%  209M 0s\n",
      "  5100K .......... .......... .......... .......... .......... 66%  339M 0s\n",
      "  5150K .......... .......... .......... .......... .......... 66%  180M 0s\n",
      "  5200K .......... .......... .......... .......... .......... 67%  290M 0s\n",
      "  5250K .......... .......... .......... .......... .......... 68%  333M 0s\n",
      "  5300K .......... .......... .......... .......... .......... 68%  328M 0s\n",
      "  5350K .......... .......... .......... .......... .......... 69%  310M 0s\n",
      "  5400K .......... .......... .......... .......... .......... 70%  290M 0s\n",
      "  5450K .......... .......... .......... .......... .......... 70% 18.9M 0s\n",
      "  5500K .......... .......... .......... .......... .......... 71%  196M 0s\n",
      "  5550K .......... .......... .......... .......... .......... 72%  210M 0s\n",
      "  5600K .......... .......... .......... .......... .......... 72%  183M 0s\n",
      "  5650K .......... .......... .......... .......... .......... 73%  286M 0s\n",
      "  5700K .......... .......... .......... .......... .......... 73%  195M 0s\n",
      "  5750K .......... .......... .......... .......... .......... 74%  199M 0s\n",
      "  5800K .......... .......... .......... .......... .......... 75%  220M 0s\n",
      "  5850K .......... .......... .......... .......... .......... 75%  237M 0s\n",
      "  5900K .......... .......... .......... .......... .......... 76%  190M 0s\n",
      "  5950K .......... .......... .......... .......... .......... 77%  346M 0s\n",
      "  6000K .......... .......... .......... .......... .......... 77%  265M 0s\n",
      "  6050K .......... .......... .......... .......... .......... 78%  333M 0s\n",
      "  6100K .......... .......... .......... .......... .......... 79%  336M 0s\n",
      "  6150K .......... .......... .......... .......... .......... 79%  304M 0s\n",
      "  6200K .......... .......... .......... .......... .......... 80%  305M 0s\n",
      "  6250K .......... .......... .......... .......... .......... 81% 21.9M 0s\n",
      "  6300K .......... .......... .......... .......... .......... 81%  255M 0s\n",
      "  6350K .......... .......... .......... .......... .......... 82%  352M 0s\n",
      "  6400K .......... .......... .......... .......... .......... 82%  171M 0s\n",
      "  6450K .......... .......... .......... .......... .......... 83%  213M 0s\n",
      "  6500K .......... .......... .......... .......... .......... 84% 48.2M 0s\n",
      "  6550K .......... .......... .......... .......... .......... 84%  216M 0s\n",
      "  6600K .......... .......... .......... .......... .......... 85%  272M 0s\n",
      "  6650K .......... .......... .......... .......... .......... 86%  217M 0s\n",
      "  6700K .......... .......... .......... .......... .......... 86%  327M 0s\n",
      "  6750K .......... .......... .......... .......... .......... 87%  205M 0s\n",
      "  6800K .......... .......... .......... .......... .......... 88%  274M 0s\n",
      "  6850K .......... .......... .......... .......... .......... 88%  333M 0s\n",
      "  6900K .......... .......... .......... .......... .......... 89%  326M 0s\n",
      "  6950K .......... .......... .......... .......... .......... 90%  325M 0s\n",
      "  7000K .......... .......... .......... .......... .......... 90%  276M 0s\n",
      "  7050K .......... .......... .......... .......... .......... 91%  353M 0s\n",
      "  7100K .......... .......... .......... .......... .......... 91%  341M 0s\n",
      "  7150K .......... .......... .......... .......... .......... 92% 38.1M 0s\n",
      "  7200K .......... .......... .......... .......... .......... 93%  181M 0s\n",
      "  7250K .......... .......... .......... .......... .......... 93%  188M 0s\n",
      "  7300K .......... .......... .......... .......... .......... 94%  241M 0s\n",
      "  7350K .......... .......... .......... .......... .......... 95%  313M 0s\n",
      "  7400K .......... .......... .......... .......... .......... 95%  171M 0s\n",
      "  7450K .......... .......... .......... .......... .......... 96%  213M 0s\n",
      "  7500K .......... .......... .......... .......... .......... 97%  322M 0s\n",
      "  7550K .......... .......... .......... .......... .......... 97%  281M 0s\n",
      "  7600K .......... .......... .......... .......... .......... 98%  210M 0s\n",
      "  7650K .......... .......... .......... .......... .......... 99%  297M 0s\n",
      "  7700K .......... .......... .......... .......... .......... 99%  325M 0s\n",
      "  7750K .......... .......... ....                            100%  315M=0.1s\n",
      "\n",
      "2018-08-29 14:53:12 (53.1 MB/s) - ‘orangutan.mp4’ saved [7961293/7961293]\n",
      "\n"
     ]
    }
   ],
   "source": [
    "%%bash\n",
    "cd pytorch/video && \n",
    "    wget https://happypathspublic.blob.core.windows.net/videos/${VIDEO_NAME}.mp4"
   ]
  },
  {
   "cell_type": "markdown",
   "metadata": {},
   "source": [
    "Lets check out the video so we know what it looks like before hand:"
   ]
  },
  {
   "cell_type": "code",
   "execution_count": 35,
   "metadata": {},
   "outputs": [
    {
     "data": {
      "text/html": [
       "    <video width=\"360\" height=\"360\" controls>          <source src=\"pytorch/video/orangutan.mp4\" type=\"video/mp4\">     </video>"
      ],
      "text/plain": [
       "<IPython.core.display.HTML object>"
      ]
     },
     "execution_count": 35,
     "metadata": {},
     "output_type": "execute_result"
    }
   ],
   "source": [
    "from IPython.display import HTML\n",
    "import os\n",
    "HTML('\\\n",
    "    <video width=\"360\" height=\"360\" controls> \\\n",
    "         <source src=\"pytorch/video/{0}.mp4\" type=\"video/mp4\"> \\\n",
    "    </video>'\\\n",
    "    .format(os.getenv('VIDEO_NAME'))\n",
    ")"
   ]
  },
  {
   "cell_type": "markdown",
   "metadata": {},
   "source": [
    "### Pre-process video with ffmpeg"
   ]
  },
  {
   "cell_type": "markdown",
   "metadata": {},
   "source": [
    "Next we need to use __ffmpeg__ to extract the audio file, which we will save as __chicken.aac__ under the video directory."
   ]
  },
  {
   "cell_type": "code",
   "execution_count": 36,
   "metadata": {},
   "outputs": [
    {
     "name": "stderr",
     "output_type": "stream",
     "text": [
      "ffmpeg version 2.8.15-0ubuntu0.16.04.1 Copyright (c) 2000-2018 the FFmpeg developers\n",
      "  built with gcc 5.4.0 (Ubuntu 5.4.0-6ubuntu1~16.04.10) 20160609\n",
      "  configuration: --prefix=/usr --extra-version=0ubuntu0.16.04.1 --build-suffix=-ffmpeg --toolchain=hardened --libdir=/usr/lib/x86_64-linux-gnu --incdir=/usr/include/x86_64-linux-gnu --cc=cc --cxx=g++ --enable-gpl --enable-shared --disable-stripping --disable-decoder=libopenjpeg --disable-decoder=libschroedinger --enable-avresample --enable-avisynth --enable-gnutls --enable-ladspa --enable-libass --enable-libbluray --enable-libbs2b --enable-libcaca --enable-libcdio --enable-libflite --enable-libfontconfig --enable-libfreetype --enable-libfribidi --enable-libgme --enable-libgsm --enable-libmodplug --enable-libmp3lame --enable-libopenjpeg --enable-libopus --enable-libpulse --enable-librtmp --enable-libschroedinger --enable-libshine --enable-libsnappy --enable-libsoxr --enable-libspeex --enable-libssh --enable-libtheora --enable-libtwolame --enable-libvorbis --enable-libvpx --enable-libwavpack --enable-libwebp --enable-libx265 --enable-libxvid --enable-libzvbi --enable-openal --enable-opengl --enable-x11grab --enable-libdc1394 --enable-libiec61883 --enable-libzmq --enable-frei0r --enable-libx264 --enable-libopencv\n",
      "  libavutil      54. 31.100 / 54. 31.100\n",
      "  libavcodec     56. 60.100 / 56. 60.100\n",
      "  libavformat    56. 40.101 / 56. 40.101\n",
      "  libavdevice    56.  4.100 / 56.  4.100\n",
      "  libavfilter     5. 40.101 /  5. 40.101\n",
      "  libavresample   2.  1.  0 /  2.  1.  0\n",
      "  libswscale      3.  1.101 /  3.  1.101\n",
      "  libswresample   1.  2.101 /  1.  2.101\n",
      "  libpostproc    53.  3.100 / 53.  3.100\n",
      "Input #0, mov,mp4,m4a,3gp,3g2,mj2, from 'orangutan.mp4':\n",
      "  Metadata:\n",
      "    major_brand     : isom\n",
      "    minor_version   : 512\n",
      "    compatible_brands: isomiso2avc1mp41\n",
      "    encoder         : Lavf58.12.100\n",
      "  Duration: 00:00:27.48, start: 0.021333, bitrate: 2317 kb/s\n",
      "    Stream #0:0(und): Video: h264 (High) (avc1 / 0x31637661), yuv420p, 720x720, 2242 kb/s, 30 fps, 30 tbr, 15360 tbn, 60 tbc (default)\n",
      "    Metadata:\n",
      "      handler_name    : VideoHandler\n",
      "    Stream #0:1(eng): Audio: aac (LC) (mp4a / 0x6134706D), 48000 Hz, mono, fltp, 69 kb/s (default)\n",
      "    Metadata:\n",
      "      handler_name    : SoundHandler\n",
      "Output #0, mp3, to 'orangutan.mp3':\n",
      "  Metadata:\n",
      "    major_brand     : isom\n",
      "    minor_version   : 512\n",
      "    compatible_brands: isomiso2avc1mp41\n",
      "    TSSE            : Lavf56.40.101\n",
      "    Stream #0:0(eng): Audio: mp3 (libmp3lame), 48000 Hz, mono, fltp (default)\n",
      "    Metadata:\n",
      "      handler_name    : SoundHandler\n",
      "      encoder         : Lavc56.60.100 libmp3lame\n",
      "Stream mapping:\n",
      "  Stream #0:1 -> #0:0 (aac (native) -> mp3 (libmp3lame))\n",
      "Press [q] to stop, [?] for help\n",
      "size=     215kB time=00:00:27.48 bitrate=  64.2kbits/s    \n",
      "video:0kB audio:215kB subtitle:0kB other streams:0kB global headers:0kB muxing overhead: 0.154523%\n"
     ]
    }
   ],
   "source": [
    "%%bash \n",
    "cd pytorch/video &&\n",
    "    ffmpeg -i ${VIDEO_NAME}.mp4 ${VIDEO_NAME}.mp3"
   ]
  },
  {
   "cell_type": "markdown",
   "metadata": {},
   "source": [
    "Finally, we need break up the frames of the video into separate individual images. The images will be saved inside a new folder under the images directory, called __chicken_frames__."
   ]
  },
  {
   "cell_type": "code",
   "execution_count": 37,
   "metadata": {},
   "outputs": [
    {
     "name": "stderr",
     "output_type": "stream",
     "text": [
      "Input #0, mov,mp4,m4a,3gp,3g2,mj2, from '../../video/orangutan.mp4':\n",
      "  Metadata:\n",
      "    major_brand     : isom\n",
      "    minor_version   : 512\n",
      "    compatible_brands: isomiso2avc1mp41\n",
      "    encoder         : Lavf58.12.100\n",
      "  Duration: 00:00:27.48, start: 0.021333, bitrate: 2317 kb/s\n",
      "    Stream #0:0(und): Video: h264 (High) (avc1 / 0x31637661), yuv420p, 720x720, 2242 kb/s, 30 fps, 30 tbr, 15360 tbn, 60 tbc (default)\n",
      "    Metadata:\n",
      "      handler_name    : VideoHandler\n",
      "    Stream #0:1(eng): Audio: aac (LC) (mp4a / 0x6134706D), 48000 Hz, mono, fltp, 69 kb/s (default)\n",
      "    Metadata:\n",
      "      handler_name    : SoundHandler\n",
      "[swscaler @ 0xb18780] deprecated pixel format used, make sure you did set range correctly\n",
      "Output #0, image2, to '%05d_orangutan.jpg':\n",
      "  Metadata:\n",
      "    major_brand     : isom\n",
      "    minor_version   : 512\n",
      "    compatible_brands: isomiso2avc1mp41\n",
      "    encoder         : Lavf56.40.101\n",
      "    Stream #0:0(und): Video: mjpeg, yuvj420p(pc), 720x720, q=2-31, 200 kb/s, 30 fps, 30 tbn, 30 tbc (default)\n",
      "    Metadata:\n",
      "      handler_name    : VideoHandler\n",
      "      encoder         : Lavc56.60.100 mjpeg\n",
      "Stream mapping:\n",
      "  Stream #0:0 -> #0:0 (h264 (native) -> mjpeg (native))\n",
      "Press [q] to stop, [?] for help\n",
      "frame=  138 fps=0.0 q=24.8 size=N/A time=00:00:04.60 bitrate=N/A dup=1 drop=0    \r",
      "frame=  282 fps=280 q=24.8 size=N/A time=00:00:09.40 bitrate=N/A dup=1 drop=0    \r",
      "frame=  427 fps=283 q=24.8 size=N/A time=00:00:14.23 bitrate=N/A dup=1 drop=0    \r",
      "frame=  569 fps=283 q=24.8 size=N/A time=00:00:18.96 bitrate=N/A dup=1 drop=0    \r",
      "frame=  703 fps=280 q=24.8 size=N/A time=00:00:23.43 bitrate=N/A dup=1 drop=0    \r",
      "frame=  824 fps=280 q=24.8 Lsize=N/A time=00:00:27.46 bitrate=N/A dup=1 drop=0    \n",
      "video:19824kB audio:0kB subtitle:0kB other streams:0kB global headers:0kB muxing overhead: unknown\n"
     ]
    }
   ],
   "source": [
    "%%bash\n",
    "cd pytorch/images/ &&\n",
    "    mkdir ${VIDEO_NAME} && cd ${VIDEO_NAME} &&\n",
    "    ffmpeg -i ../../video/${VIDEO_NAME}.mp4 %05d_${VIDEO_NAME}.jpg -hide_banner"
   ]
  },
  {
   "cell_type": "markdown",
   "metadata": {},
   "source": [
    "We can count the number of frames that the video produced:"
   ]
  },
  {
   "cell_type": "code",
   "execution_count": 38,
   "metadata": {},
   "outputs": [
    {
     "name": "stdout",
     "output_type": "stream",
     "text": [
      "824\n"
     ]
    }
   ],
   "source": [
    "%%bash\n",
    "cd pytorch/images/${VIDEO_NAME} && ls -1 | wc -l"
   ]
  },
  {
   "cell_type": "markdown",
   "metadata": {},
   "source": [
    "At this point, our file system should have the following under the folder __pytorch_style_transfer__:\n",
    "```md\n",
    "├── images/\n",
    "│   ├── video_name/ [<--new dir with video frames as images]\n",
    "│   ├── sample_content_images/\n",
    "│   ├── sample_output_images/\n",
    "│   └── style_images/\n",
    "├── video/\n",
    "│   ├── video_name.mp4 [<--new video]\n",
    "│   └── video_name.mp3 [<--new extracted audio file for video]\n",
    "├── style_transfer_interactive.ipynb\n",
    "└── style_transfer_script.py\n",
    "```\n",
    "\n",
    "Now that we have all the frames of the video stored seperately as images, we are ready to scale out and try scoring in the cloud."
   ]
  },
  {
   "cell_type": "markdown",
   "metadata": {},
   "source": [
    "## Testing our Style Transfer Script on Azure BatchAI"
   ]
  },
  {
   "cell_type": "markdown",
   "metadata": {},
   "source": [
    "In this tutorial, we use Azure BatchAI to scale out of computation to multiple GPUs in Azure."
   ]
  },
  {
   "cell_type": "markdown",
   "metadata": {},
   "source": [
    "### Setting up your cluster"
   ]
  },
  {
   "cell_type": "markdown",
   "metadata": {},
   "source": [
    "First, we need to create your cluster using the __azure/scripts/create_cluster.py__ script.\n",
    "\n",
    "This script will create the BatchAI workspace for all BatchAI resources to be created in.\n",
    "\n",
    "After running this command, go into the Azure portal and check that your cluster is successfully created."
   ]
  },
  {
   "cell_type": "code",
   "execution_count": 43,
   "metadata": {},
   "outputs": [
    {
     "name": "stdout",
     "output_type": "stream",
     "text": [
      "Cluster state: steady; Allocated: 0; Idle: 0; Unusable: 0; Running: 0; Preparing: 0; Leaving: 0\n"
     ]
    },
    {
     "name": "stderr",
     "output_type": "stream",
     "text": [
      "Keyring cache token has failed: No recommended backend was available. Install the keyrings.alt package if you want to use the non-recommended backends. See README.rst for details.\n"
     ]
    }
   ],
   "source": [
    "%%bash \n",
    "python azure/scripts/create_cluster.py"
   ]
  },
  {
   "cell_type": "markdown",
   "metadata": {},
   "source": [
    "### Upload files into Azure Blob Storage"
   ]
  },
  {
   "cell_type": "markdown",
   "metadata": {},
   "source": [
    "Now we need to upload the script and model files to the fileshare using __az_copy__. We'll also upload our content images to test our Batch AI jobs. \n",
    "\n",
    "After running this command, go into the Azure portal or the Azure Storage Explorer and make sure that the files are correctly uploaded."
   ]
  },
  {
   "cell_type": "code",
   "execution_count": 47,
   "metadata": {},
   "outputs": [
    {
     "name": "stdout",
     "output_type": "stream",
     "text": [
      "[2018/08/29 15:26:12] Transfer summary:\n",
      "-----------------\n",
      "Total files transferred: 1\n",
      "Transfer successfully:   1\n",
      "Transfer skipped:        0\n",
      "Transfer failed:         0\n",
      "Elapsed time:            00.00:00:00\n",
      "[2018/08/29 15:26:13] Transfer summary:\n",
      "-----------------\n",
      "Total files transferred: 1\n",
      "Transfer successfully:   1\n",
      "Transfer skipped:        0\n",
      "Transfer failed:         0\n",
      "Elapsed time:            00.00:00:00\n",
      "[2018/08/29 15:26:15] Transfer summary:\n",
      "-----------------\n",
      "Total files transferred: 824\n",
      "Transfer successfully:   824\n",
      "Transfer skipped:        0\n",
      "Transfer failed:         0\n",
      "Elapsed time:            00.00:00:01\n"
     ]
    }
   ],
   "source": [
    "%%bash\n",
    "azcopy \\\n",
    "    --source pytorch/style_transfer_script.py \\\n",
    "    --destination https://${STORAGE_ACCOUNT_NAME}.blob.core.windows.net/${AZURE_CONTAINER_NAME}/${FS_INPUT_DIR}/${FS_SCRIPT_NAME} \\\n",
    "    --dest-key $STORAGE_ACCOUNT_KEY\n",
    "    \n",
    "azcopy \\\n",
    "    --source pytorch/images/style_images/sample_renior.jpg \\\n",
    "    --destination https://${STORAGE_ACCOUNT_NAME}.blob.core.windows.net/${AZURE_CONTAINER_NAME}/${FS_INPUT_DIR}/${FS_STYLE_IMG_NAME} \\\n",
    "    --dest-key $STORAGE_ACCOUNT_KEY\n",
    "    \n",
    "azcopy \\\n",
    "    --source pytorch/images/${VIDEO_NAME} \\\n",
    "    --destination https://${STORAGE_ACCOUNT_NAME}.blob.core.windows.net/${AZURE_CONTAINER_NAME}/${FS_CONTENT_DIR} \\\n",
    "    --dest-key $STORAGE_ACCOUNT_KEY \\\n",
    "    --recursive"
   ]
  },
  {
   "cell_type": "markdown",
   "metadata": {},
   "source": [
    "### Create a Test job"
   ]
  },
  {
   "cell_type": "markdown",
   "metadata": {},
   "source": [
    "Finally, lets test that our style transfer script works on the Batch AI cluster. Use the __azure/scripts/create_job.py__ script to kick off a job. \n",
    "\n",
    "Kicking off this job will also automatically create 2 additional folders in your Blob container. The first folder will be named __output_of_content_YYYY_MM_DD_HHMMSS__ and the second will be named __logs_of_content_YYYY_MM_DD_HHMMSS__. The style transfer script will automatically save all output of the style transfer to the first folder. And likewise, all logs collected from the style transfer script will be saved to the second folder.\n",
    "\n",
    "NOTE - this command could take a while to execute. Remember that this will apply style transfer onto each frame of the video - this means that the code will optimize the style transfer loss function for every frame. \n",
    "\n",
    "After running this command, go into the Azure portal under your BatchAI account to make sure the job is sucessfully created."
   ]
  },
  {
   "cell_type": "code",
   "execution_count": 1,
   "metadata": {},
   "outputs": [
    {
     "name": "stdout",
     "output_type": "stream",
     "text": [
      "2018-08-30 14:53:35,458 - __main__ - DEBUG - Created job #0, named job0_08_30_2018_145318, with 50 images.\n",
      "2018-08-30 14:53:52,893 - __main__ - DEBUG - Created job #1, named job1_08_30_2018_145335, with 50 images.\n",
      "2018-08-30 14:54:10,134 - __main__ - DEBUG - Created job #2, named job2_08_30_2018_145352, with 50 images.\n",
      "2018-08-30 14:54:26,902 - __main__ - DEBUG - Created job #3, named job3_08_30_2018_145410, with 50 images.\n",
      "2018-08-30 14:54:43,536 - __main__ - DEBUG - Created job #4, named job4_08_30_2018_145426, with 50 images.\n",
      "2018-08-30 14:55:00,072 - __main__ - DEBUG - Created job #5, named job5_08_30_2018_145443, with 50 images.\n",
      "2018-08-30 14:55:17,557 - __main__ - DEBUG - Created job #6, named job6_08_30_2018_145500, with 50 images.\n",
      "2018-08-30 14:55:34,928 - __main__ - DEBUG - Created job #7, named job7_08_30_2018_145517, with 50 images.\n",
      "2018-08-30 14:55:52,037 - __main__ - DEBUG - Created job #8, named job8_08_30_2018_145534, with 50 images.\n",
      "2018-08-30 14:56:09,161 - __main__ - DEBUG - Created job #9, named job9_08_30_2018_145552, with 50 images.\n",
      "2018-08-30 14:56:26,301 - __main__ - DEBUG - Created job #10, named job10_08_30_2018_145609, with 50 images.\n",
      "2018-08-30 14:56:43,163 - __main__ - DEBUG - Created job #11, named job11_08_30_2018_145626, with 50 images.\n",
      "2018-08-30 14:56:59,896 - __main__ - DEBUG - Created job #12, named job12_08_30_2018_145643, with 50 images.\n",
      "2018-08-30 14:57:16,237 - __main__ - DEBUG - Created job #13, named job13_08_30_2018_145659, with 50 images.\n",
      "2018-08-30 14:57:32,557 - __main__ - DEBUG - Created job #14, named job14_08_30_2018_145716, with 50 images.\n",
      "2018-08-30 14:57:49,585 - __main__ - DEBUG - Created job #15, named job15_08_30_2018_145732, with 50 images.\n",
      "2018-08-30 14:58:07,164 - __main__ - DEBUG - Created job #16, named job16_08_30_2018_145749, with 24 images.\n",
      "2018-08-30 14:58:07,165 - __main__ - DEBUG - Time (in seconds) it took to create all BatchAI jobs: 289.0753438472748\n",
      "2018-08-30 14:58:07,165 - __main__ - DEBUG - Time (in seconds) it takes to create a single BatchAI job on average: 18.067208990454674\n"
     ]
    },
    {
     "name": "stderr",
     "output_type": "stream",
     "text": [
      "Keyring cache token has failed: No recommended backend was available. Install the keyrings.alt package if you want to use the non-recommended backends. See README.rst for details.\n"
     ]
    }
   ],
   "source": [
    "%%bash\n",
    "python azure/scripts/create_job.py --job-batch-size 50"
   ]
  },
  {
   "cell_type": "markdown",
   "metadata": {},
   "source": [
    "### Inspect the results"
   ]
  },
  {
   "cell_type": "markdown",
   "metadata": {},
   "source": [
    "When the jobs finish running, you can use the Azure portal or Storage explorer to inspect the output images.\n",
    "\n",
    "Inside your Blob Container, you should notice that a new directory with the datetime-stamp is created. Output images are stored there."
   ]
  },
  {
   "cell_type": "markdown",
   "metadata": {},
   "source": [
    "## Running it with Docker"
   ]
  },
  {
   "cell_type": "markdown",
   "metadata": {},
   "source": [
    "After we've tested that the BatchAI jobs are successfully created, we now want to build a docker container and check that we can run the BatchAI job from a docker container."
   ]
  },
  {
   "cell_type": "markdown",
   "metadata": {},
   "source": [
    "First we need to build the docker image using the Dockerfile which will upload all Azure utility python files as well as the __create_job.py__ file into the image."
   ]
  },
  {
   "cell_type": "code",
   "execution_count": 1,
   "metadata": {},
   "outputs": [
    {
     "name": "stdout",
     "output_type": "stream",
     "text": [
      "Sending build context to Docker daemon    127kB\r",
      "\r\n",
      "Step 1/7 : FROM python:3.6-jessie\n",
      " ---> 11aa3556fb90\n",
      "Step 2/7 : WORKDIR /job\n",
      " ---> Using cache\n",
      " ---> 35f724c2aa53\n",
      "Step 3/7 : ADD scripts/create_job.py /job\n",
      " ---> Using cache\n",
      " ---> cb3babc14069\n",
      "Step 4/7 : ADD scripts/util /job/util\n",
      " ---> Using cache\n",
      " ---> 43d4b320c76d\n",
      "Step 5/7 : ADD requirements.txt /job\n",
      " ---> Using cache\n",
      " ---> 48640f43f1c6\n",
      "Step 6/7 : RUN pip install --trusted-host pypi.python.org -r requirements.txt\n",
      " ---> Using cache\n",
      " ---> c3e9bc9ef833\n",
      "Step 7/7 : CMD [\"python\", \"create_job.py\"]\n",
      " ---> Using cache\n",
      " ---> 738694a2db9f\n",
      "Successfully built 738694a2db9f\n",
      "Successfully tagged bai_job:latest\n"
     ]
    }
   ],
   "source": [
    "%%bash\n",
    "cd azure &&\n",
    "    sudo docker build -t $DOCKER_IMAGE ."
   ]
  },
  {
   "cell_type": "markdown",
   "metadata": {},
   "source": [
    "[Optional] \n",
    "\n",
    "Then we test that the BatchAI job can be executed from the docker image we just built. Because the __create_job.py__ file requires many environment variables, we will use the __docker_run.sh__ script to pass in all the required environment variables for the image to successfully run locally. This step is optional as it will take several minutes to run the job."
   ]
  },
  {
   "cell_type": "code",
   "execution_count": 2,
   "metadata": {},
   "outputs": [
    {
     "name": "stdout",
     "output_type": "stream",
     "text": [
      "2018-08-29 15:46:46,734 - __main__ - DEBUG - Created job #0, named job0_08_29_2018_154630, with 50 images.\n",
      "2018-08-29 15:47:03,115 - __main__ - DEBUG - Created job #1, named job1_08_29_2018_154646, with 50 images.\n",
      "2018-08-29 15:47:19,406 - __main__ - DEBUG - Created job #2, named job2_08_29_2018_154703, with 50 images.\n",
      "2018-08-29 15:47:35,750 - __main__ - DEBUG - Created job #3, named job3_08_29_2018_154719, with 50 images.\n",
      "2018-08-29 15:47:52,325 - __main__ - DEBUG - Created job #4, named job4_08_29_2018_154735, with 50 images.\n",
      "2018-08-29 15:48:08,556 - __main__ - DEBUG - Created job #5, named job5_08_29_2018_154752, with 50 images.\n",
      "2018-08-29 15:48:24,834 - __main__ - DEBUG - Created job #6, named job6_08_29_2018_154808, with 50 images.\n",
      "2018-08-29 15:48:40,991 - __main__ - DEBUG - Created job #7, named job7_08_29_2018_154824, with 50 images.\n",
      "2018-08-29 15:48:57,315 - __main__ - DEBUG - Created job #8, named job8_08_29_2018_154840, with 50 images.\n",
      "2018-08-29 15:49:13,512 - __main__ - DEBUG - Created job #9, named job9_08_29_2018_154857, with 50 images.\n",
      "2018-08-29 15:49:29,340 - __main__ - DEBUG - Created job #10, named job10_08_29_2018_154913, with 50 images.\n",
      "2018-08-29 15:49:45,732 - __main__ - DEBUG - Created job #11, named job11_08_29_2018_154929, with 50 images.\n",
      "2018-08-29 15:50:01,954 - __main__ - DEBUG - Created job #12, named job12_08_29_2018_154945, with 50 images.\n",
      "2018-08-29 15:50:17,970 - __main__ - DEBUG - Created job #13, named job13_08_29_2018_155001, with 50 images.\n",
      "2018-08-29 15:50:34,144 - __main__ - DEBUG - Created job #14, named job14_08_29_2018_155017, with 50 images.\n",
      "2018-08-29 15:50:49,698 - __main__ - DEBUG - Created job #15, named job15_08_29_2018_155034, with 50 images.\n",
      "2018-08-29 15:51:05,460 - __main__ - DEBUG - Created job #16, named job16_08_29_2018_155049, with 24 images.\n",
      "2018-08-29 15:51:05,460 - __main__ - DEBUG - Time (in seconds) it took to create all BatchAI jobs: 275.3209455013275\n",
      "2018-08-29 15:51:05,460 - __main__ - DEBUG - Time (in seconds) it takes to create a single BatchAI job on average: 17.20755909383297\n"
     ]
    }
   ],
   "source": [
    "%%bash\n",
    "cd azure &&\n",
    "    source docker_run.sh -t $DOCKER_IMAGE"
   ]
  },
  {
   "cell_type": "markdown",
   "metadata": {},
   "source": [
    "Finally, we have to publish the image to Dockerhub. _Make sure you replace <your-dockerhub-username>_ with your Dockerhub username. Don't forget that you'll have to make sure you're already logged in before being able to push your image up. (`docker login`)"
   ]
  },
  {
   "cell_type": "code",
   "execution_count": 6,
   "metadata": {},
   "outputs": [
    {
     "name": "stdout",
     "output_type": "stream",
     "text": [
      "The push refers to repository [docker.io/jiata/bai_job]\n",
      "5aa5e8885385: Preparing\n",
      "bb4ed76240f9: Preparing\n",
      "62efca09342b: Preparing\n",
      "492c5cd0a446: Preparing\n",
      "6aca85ba2c1f: Preparing\n",
      "0c5d1b2a1642: Preparing\n",
      "66a1aa763275: Preparing\n",
      "6db858a45525: Preparing\n",
      "1385e3b82428: Preparing\n",
      "f3693db46abb: Preparing\n",
      "bb6d734b467e: Preparing\n",
      "5f349fdc9028: Preparing\n",
      "2c833f307fd8: Preparing\n",
      "0c5d1b2a1642: Waiting\n",
      "66a1aa763275: Waiting\n",
      "6db858a45525: Waiting\n",
      "1385e3b82428: Waiting\n",
      "f3693db46abb: Waiting\n",
      "bb6d734b467e: Waiting\n",
      "5f349fdc9028: Waiting\n",
      "2c833f307fd8: Waiting\n",
      "6aca85ba2c1f: Layer already exists\n",
      "0c5d1b2a1642: Layer already exists\n",
      "66a1aa763275: Layer already exists\n",
      "bb4ed76240f9: Pushed\n",
      "492c5cd0a446: Pushed\n",
      "1385e3b82428: Layer already exists\n",
      "6db858a45525: Layer already exists\n",
      "bb6d734b467e: Layer already exists\n",
      "5f349fdc9028: Layer already exists\n",
      "62efca09342b: Pushed\n",
      "2c833f307fd8: Layer already exists\n",
      "f3693db46abb: Layer already exists\n",
      "5aa5e8885385: Pushed\n",
      "latest: digest: sha256:1af3cf3413738fc0a3875fa0a67029faa8d19eaf1ddf16a1b394d5c61f90ada0 size: 3048\n"
     ]
    }
   ],
   "source": [
    "%%bash\n",
    "cd azure &&\n",
    "    sudo docker tag bai_job $DOCKER_USER/$DOCKER_IMAGE &&\n",
    "    sudo docker push $DOCKER_USER/$DOCKER_IMAGE"
   ]
  },
  {
   "cell_type": "markdown",
   "metadata": {},
   "source": [
    "## Setting up ACI with Logic Apps"
   ]
  },
  {
   "cell_type": "markdown",
   "metadata": {},
   "source": [
    "First we need to generate the ARM deployment template for deploying ACI and Logic App to set up the trigger. We will use the __generate_trigger_arm.py__ script to generate an ARM Template (JSON) which we can use to deploy the ACI and Logic App. The script uses __azure/deployments/template.trigger_arm.json__ to generate __azure/deployments/trigger_arm.json__, which we can use to execute the deployment.\n",
    "\n",
    "If you inspect the ARM Template, you'll see that Logic App will be triggered when a new file is added to the blob. The trigger will only occur if the blob filename begins with 'trigger' and ends with '.txt'. It will then use the contents of the blob to look for the corresponding directory in that Blob Container, which it then uses as the content image file directory for the transfer.\n",
    "\n",
    "For example, if we upload a file, titled `trigger_0.txt`, with the content \"content_image_dir\", the Logic App will look for a directory in the Blob Container titled \"content_image_dir\", and start to process the images it finds in the directory."
   ]
  },
  {
   "cell_type": "markdown",
   "metadata": {},
   "source": [
    "First lets generate the trigger template:"
   ]
  },
  {
   "cell_type": "code",
   "execution_count": 1,
   "metadata": {},
   "outputs": [],
   "source": [
    "%%bash\n",
    "cd azure/arm &&\n",
    "    python ../scripts/generate_trigger_arm.py trigger_arm.json"
   ]
  },
  {
   "cell_type": "markdown",
   "metadata": {},
   "source": [
    "Now lets use the __az cli__ to deploy the solution."
   ]
  },
  {
   "cell_type": "code",
   "execution_count": 2,
   "metadata": {},
   "outputs": [
    {
     "name": "stdout",
     "output_type": "stream",
     "text": [
      "{\n",
      "  \"id\": \"/subscriptions/0ca618d2-22a8-413a-96d0-0f1b531129c3/resourceGroups/js_batch_scoring_dl/providers/Microsoft.Resources/deployments/aci_logicapp_deployment\",\n",
      "  \"name\": \"aci_logicapp_deployment\",\n",
      "  \"properties\": {\n",
      "    \"correlationId\": \"4e304069-d67a-4451-8d60-f27c2ce2696f\",\n",
      "    \"debugSetting\": null,\n",
      "    \"dependencies\": [\n",
      "      {\n",
      "        \"dependsOn\": [\n",
      "          {\n",
      "            \"id\": \"/subscriptions/0ca618d2-22a8-413a-96d0-0f1b531129c3/resourceGroups/js_batch_scoring_dl/providers/Microsoft.Web/connections/aci\",\n",
      "            \"resourceGroup\": \"js_batch_scoring_dl\",\n",
      "            \"resourceName\": \"aci\",\n",
      "            \"resourceType\": \"Microsoft.Web/connections\"\n",
      "          },\n",
      "          {\n",
      "            \"id\": \"/subscriptions/0ca618d2-22a8-413a-96d0-0f1b531129c3/resourceGroups/js_batch_scoring_dl/providers/Microsoft.Web/connections/azureblob\",\n",
      "            \"resourceGroup\": \"js_batch_scoring_dl\",\n",
      "            \"resourceName\": \"azureblob\",\n",
      "            \"resourceType\": \"Microsoft.Web/connections\"\n",
      "          }\n",
      "        ],\n",
      "        \"id\": \"/subscriptions/0ca618d2-22a8-413a-96d0-0f1b531129c3/resourceGroups/js_batch_scoring_dl/providers/Microsoft.Logic/workflows/logic_app\",\n",
      "        \"resourceGroup\": \"js_batch_scoring_dl\",\n",
      "        \"resourceName\": \"logic_app\",\n",
      "        \"resourceType\": \"Microsoft.Logic/workflows\"\n",
      "      }\n",
      "    ],\n",
      "    \"duration\": \"PT17.7201608S\",\n",
      "    \"mode\": \"Incremental\",\n",
      "    \"outputResources\": [\n",
      "      {\n",
      "        \"id\": \"/subscriptions/0ca618d2-22a8-413a-96d0-0f1b531129c3/resourceGroups/js_batch_scoring_dl/providers/Microsoft.Logic/workflows/logic_app\",\n",
      "        \"resourceGroup\": \"js_batch_scoring_dl\"\n",
      "      },\n",
      "      {\n",
      "        \"id\": \"/subscriptions/0ca618d2-22a8-413a-96d0-0f1b531129c3/resourceGroups/js_batch_scoring_dl/providers/Microsoft.Web/connections/aci\",\n",
      "        \"resourceGroup\": \"js_batch_scoring_dl\"\n",
      "      },\n",
      "      {\n",
      "        \"id\": \"/subscriptions/0ca618d2-22a8-413a-96d0-0f1b531129c3/resourceGroups/js_batch_scoring_dl/providers/Microsoft.Web/connections/azureblob\",\n",
      "        \"resourceGroup\": \"js_batch_scoring_dl\"\n",
      "      }\n",
      "    ],\n",
      "    \"outputs\": null,\n",
      "    \"parameters\": {\n",
      "      \"connections_aci_name\": {\n",
      "        \"type\": \"String\",\n",
      "        \"value\": \"aci\"\n",
      "      },\n",
      "      \"connections_azureblob_name\": {\n",
      "        \"type\": \"String\",\n",
      "        \"value\": \"azureblob\"\n",
      "      },\n",
      "      \"workflows_js_batch_scoring_dl_path\": {\n",
      "        \"type\": \"String\",\n",
      "        \"value\": \"/subscriptions/@{encodeURIComponent('0ca618d2-22a8-413a-96d0-0f1b531129c3')}/resourceGroups/@{encodeURIComponent('js_batch_scoring_dl')}/providers/Microsoft.ContainerInstance/containerGroups/@{encodeURIComponent('aci_group')}\"\n",
      "      },\n",
      "      \"workflows_logic_app_name\": {\n",
      "        \"type\": \"String\",\n",
      "        \"value\": \"logic_app\"\n",
      "      }\n",
      "    },\n",
      "    \"parametersLink\": null,\n",
      "    \"providers\": [\n",
      "      {\n",
      "        \"id\": null,\n",
      "        \"namespace\": \"Microsoft.Logic\",\n",
      "        \"registrationState\": null,\n",
      "        \"resourceTypes\": [\n",
      "          {\n",
      "            \"aliases\": null,\n",
      "            \"apiVersions\": null,\n",
      "            \"locations\": [\n",
      "              \"eastus\"\n",
      "            ],\n",
      "            \"properties\": null,\n",
      "            \"resourceType\": \"workflows\"\n",
      "          }\n",
      "        ]\n",
      "      },\n",
      "      {\n",
      "        \"id\": null,\n",
      "        \"namespace\": \"Microsoft.Web\",\n",
      "        \"registrationState\": null,\n",
      "        \"resourceTypes\": [\n",
      "          {\n",
      "            \"aliases\": null,\n",
      "            \"apiVersions\": null,\n",
      "            \"locations\": [\n",
      "              \"eastus\"\n",
      "            ],\n",
      "            \"properties\": null,\n",
      "            \"resourceType\": \"connections\"\n",
      "          }\n",
      "        ]\n",
      "      }\n",
      "    ],\n",
      "    \"provisioningState\": \"Succeeded\",\n",
      "    \"template\": null,\n",
      "    \"templateHash\": \"9714577695198121071\",\n",
      "    \"templateLink\": null,\n",
      "    \"timestamp\": \"2018-08-29T14:32:54.547445+00:00\"\n",
      "  },\n",
      "  \"resourceGroup\": \"js_batch_scoring_dl\"\n",
      "}\n"
     ]
    }
   ],
   "source": [
    "%%bash\n",
    "az group deployment create \\\n",
    "    --name aci_logicapp_deployment \\\n",
    "    --resource-group $RESOURCE_GROUP \\\n",
    "    --template-file azure/arm/trigger_arm.json"
   ]
  },
  {
   "cell_type": "markdown",
   "metadata": {},
   "source": [
    "## Trigger the process"
   ]
  },
  {
   "cell_type": "markdown",
   "metadata": {},
   "source": [
    "Finally we need to trigger the process by loading something into blob. Normally, this can be done with any process (such as drag-and-drop using Storage Explorer), but for the purposes of this demo, lets do so simply with __az_copy__."
   ]
  },
  {
   "cell_type": "markdown",
   "metadata": {},
   "source": [
    "First we create a file, __foo.txt__ with the contents being the name of the directory in the blob that we want to apply style transfer too."
   ]
  },
  {
   "cell_type": "code",
   "execution_count": null,
   "metadata": {},
   "outputs": [],
   "source": [
    "%%bash\n",
    "touch trigger_0.txt &&\n",
    "    echo $FS_CONTENT_DIR > trigger_0.txt"
   ]
  },
  {
   "cell_type": "markdown",
   "metadata": {},
   "source": [
    "Next we have to copy that file over to storage to trigger the process:"
   ]
  },
  {
   "cell_type": "code",
   "execution_count": null,
   "metadata": {},
   "outputs": [],
   "source": [
    "%%bash\n",
    "azcopy \\\n",
    "    --source trigger_0.txt \\\n",
    "    --destination https://${STORAGE_ACCOUNT_NAME}.blob.core.windows.net/${AZURE_CONTAINER_NAME}/trigger_0.txt \\\n",
    "    --dest-key $STORAGE_ACCOUNT_KEY"
   ]
  },
  {
   "cell_type": "markdown",
   "metadata": {},
   "source": [
    "We can now inspect the logs from ACI to see that everything is going smoothly:"
   ]
  },
  {
   "cell_type": "code",
   "execution_count": 3,
   "metadata": {},
   "outputs": [
    {
     "name": "stdout",
     "output_type": "stream",
     "text": [
      "2018-08-28 20:41:36,072 - __main__ - DEBUG - Created job #0, named job0_08_28_2018_204119, with 50 images.\n",
      "2018-08-28 20:41:51,572 - __main__ - DEBUG - Created job #1, named job1_08_28_2018_204136, with 50 images.\n",
      "2018-08-28 20:42:07,071 - __main__ - DEBUG - Created job #2, named job2_08_28_2018_204151, with 50 images.\n",
      "2018-08-28 20:42:22,452 - __main__ - DEBUG - Created job #3, named job3_08_28_2018_204207, with 50 images.\n",
      "2018-08-28 20:42:38,060 - __main__ - DEBUG - Created job #4, named job4_08_28_2018_204222, with 50 images.\n",
      "2018-08-28 20:42:53,460 - __main__ - DEBUG - Created job #5, named job5_08_28_2018_204238, with 50 images.\n",
      "2018-08-28 20:43:09,286 - __main__ - DEBUG - Created job #6, named job6_08_28_2018_204253, with 50 images.\n",
      "2018-08-28 20:43:24,677 - __main__ - DEBUG - Created job #7, named job7_08_28_2018_204309, with 50 images.\n",
      "2018-08-28 20:43:40,069 - __main__ - DEBUG - Created job #8, named job8_08_28_2018_204324, with 50 images.\n",
      "2018-08-28 20:43:55,702 - __main__ - DEBUG - Created job #9, named job9_08_28_2018_204340, with 50 images.\n",
      "2018-08-28 20:44:11,115 - __main__ - DEBUG - Created job #10, named job10_08_28_2018_204355, with 50 images.\n",
      "2018-08-28 20:44:26,488 - __main__ - DEBUG - Created job #11, named job11_08_28_2018_204411, with 50 images.\n",
      "2018-08-28 20:44:41,870 - __main__ - DEBUG - Created job #12, named job12_08_28_2018_204426, with 50 images.\n",
      "2018-08-28 20:44:57,233 - __main__ - DEBUG - Created job #13, named job13_08_28_2018_204441, with 50 images.\n",
      "2018-08-28 20:45:12,780 - __main__ - DEBUG - Created job #14, named job14_08_28_2018_204457, with 50 images.\n",
      "2018-08-28 20:45:28,255 - __main__ - DEBUG - Created job #15, named job15_08_28_2018_204512, with 50 images.\n",
      "2018-08-28 20:45:43,622 - __main__ - DEBUG - Created job #16, named job16_08_28_2018_204528, with 50 images.\n",
      "2018-08-28 20:45:59,098 - __main__ - DEBUG - Created job #17, named job17_08_28_2018_204543, with 50 images.\n",
      "2018-08-28 20:46:14,579 - __main__ - DEBUG - Created job #18, named job18_08_28_2018_204559, with 50 images.\n",
      "2018-08-28 20:46:30,010 - __main__ - DEBUG - Created job #19, named job19_08_28_2018_204614, with 50 images.\n",
      "2018-08-28 20:46:45,548 - __main__ - DEBUG - Created job #20, named job20_08_28_2018_204630, with 50 images.\n",
      "2018-08-28 20:47:00,965 - __main__ - DEBUG - Created job #21, named job21_08_28_2018_204645, with 50 images.\n",
      "2018-08-28 20:47:16,585 - __main__ - DEBUG - Created job #22, named job22_08_28_2018_204700, with 50 images.\n",
      "2018-08-28 20:47:32,017 - __main__ - DEBUG - Created job #23, named job23_08_28_2018_204716, with 50 images.\n",
      "2018-08-28 20:47:48,050 - __main__ - DEBUG - Created job #24, named job24_08_28_2018_204732, with 50 images.\n",
      "2018-08-28 20:48:03,428 - __main__ - DEBUG - Created job #25, named job25_08_28_2018_204748, with 50 images.\n",
      "2018-08-28 20:48:18,813 - __main__ - DEBUG - Created job #26, named job26_08_28_2018_204803, with 50 images.\n",
      "2018-08-28 20:48:34,191 - __main__ - DEBUG - Created job #27, named job27_08_28_2018_204818, with 50 images.\n",
      "2018-08-28 20:48:49,623 - __main__ - DEBUG - Created job #28, named job28_08_28_2018_204834, with 50 images.\n",
      "2018-08-28 20:49:05,217 - __main__ - DEBUG - Created job #29, named job29_08_28_2018_204849, with 50 images.\n",
      "2018-08-28 20:49:20,832 - __main__ - DEBUG - Created job #30, named job30_08_28_2018_204905, with 50 images.\n",
      "2018-08-28 20:49:36,331 - __main__ - DEBUG - Created job #31, named job31_08_28_2018_204920, with 50 images.\n",
      "2018-08-28 20:49:51,801 - __main__ - DEBUG - Created job #32, named job32_08_28_2018_204936, with 50 images.\n",
      "2018-08-28 20:50:07,268 - __main__ - DEBUG - Created job #33, named job33_08_28_2018_204951, with 50 images.\n",
      "2018-08-28 20:50:22,780 - __main__ - DEBUG - Created job #34, named job34_08_28_2018_205007, with 50 images.\n",
      "2018-08-28 20:50:38,158 - __main__ - DEBUG - Created job #35, named job35_08_28_2018_205022, with 50 images.\n",
      "2018-08-28 20:50:53,648 - __main__ - DEBUG - Created job #36, named job36_08_28_2018_205038, with 50 images.\n",
      "2018-08-28 20:51:09,106 - __main__ - DEBUG - Created job #37, named job37_08_28_2018_205053, with 50 images.\n",
      "2018-08-28 20:51:24,635 - __main__ - DEBUG - Created job #38, named job38_08_28_2018_205109, with 50 images.\n",
      "2018-08-28 20:51:40,281 - __main__ - DEBUG - Created job #39, named job39_08_28_2018_205124, with 50 images.\n",
      "2018-08-28 20:51:55,727 - __main__ - DEBUG - Created job #40, named job40_08_28_2018_205140, with 50 images.\n",
      "2018-08-28 20:52:11,279 - __main__ - DEBUG - Created job #41, named job41_08_28_2018_205155, with 31 images.\n",
      "2018-08-28 20:52:11,279 - __main__ - DEBUG - Time (in seconds) it took to create all BatchAI jobs: 651.553638458252\n",
      "2018-08-28 20:52:11,279 - __main__ - DEBUG - Time (in seconds) it takes to create a single BatchAI job on average: 15.89155215751834\n",
      "\n"
     ]
    }
   ],
   "source": [
    "%%bash\n",
    "az container logs --resource-group $RESOURCE_GROUP --name $ACI_CONTAINER_GROUP"
   ]
  },
  {
   "cell_type": "markdown",
   "metadata": {},
   "source": [
    "At this point, we can inspect the Azure portal to see all the moving parts:\n",
    "- Logic Apps will be triggers and will spin up ACI\n",
    "- ACI will break up the content images in blob and create BatchAI jobs\n",
    "- The BatchAI cluster will scale up and start processing the work\n",
    "- As the style transfer script is executed in batch on BatchAI, we will see the completed images (as well as logs) saved back to blob "
   ]
  },
  {
   "cell_type": "markdown",
   "metadata": {},
   "source": [
    "## Download Results and Re-stitch Video"
   ]
  },
  {
   "cell_type": "markdown",
   "metadata": {},
   "source": [
    "The last step is to download and restitch the video so that we can enjoy the same video, but now with each frame with style transfer applied."
   ]
  },
  {
   "cell_type": "markdown",
   "metadata": {},
   "source": [
    "First we need to get the name of the output folder where all out style transfered frames are stored. We do this by using the Batch AI CLI. We store the name of the output folder as `output_folder_name` to be used in later cells."
   ]
  },
  {
   "cell_type": "code",
   "execution_count": 3,
   "metadata": {},
   "outputs": [],
   "source": [
    "import os\n",
    "\n",
    "# We use `--query [-1].name` to mean: 'get the name of the last experiment'\n",
    "exp_names = !az batchai experiment list -g ${RESOURCE_GROUP} --workspace ${WORKSPACE} --query [-1].name\n",
    "\n",
    "# strip quotation marks\n",
    "exp_name = str(exp_names[0])[1:-1]\n",
    "\n",
    "# replace experiment prefix with output folder prefix\n",
    "exp_name_array = str(exp_name).split('_')\n",
    "exp_name_array[0] = \"{0}_{1}\".format(os.getenv('FS_OUTPUT_DIR_PREFIX'), os.getenv('FS_CONTENT_DIR'))\n",
    "output_folder_name = '_'.join(exp_name_array)"
   ]
  },
  {
   "cell_type": "markdown",
   "metadata": {},
   "source": [
    "Using the `output_folder_name` variable, lets download the frames:"
   ]
  },
  {
   "cell_type": "code",
   "execution_count": 4,
   "metadata": {},
   "outputs": [
    {
     "name": "stdout",
     "output_type": "stream",
     "text": [
      "[2018/08/29 15:55:37] Transfer summary:\n",
      "-----------------\n",
      "Total files transferred: 825\n",
      "Transfer successfully:   825\n",
      "Transfer skipped:        0\n",
      "Transfer failed:         0\n",
      "Elapsed time:            00.00:00:01\n"
     ]
    }
   ],
   "source": [
    "%%script env output_folder_name=\"$output_folder_name\" bash\n",
    "cd pytorch/images &&\n",
    "    azcopy \\\n",
    "        --source https://${STORAGE_ACCOUNT_NAME}.blob.core.windows.net/${AZURE_CONTAINER_NAME} \\\n",
    "        --destination . \\\n",
    "        --source-key $STORAGE_ACCOUNT_KEY \\\n",
    "        --include $output_folder_name \\\n",
    "        --recursive"
   ]
  },
  {
   "cell_type": "markdown",
   "metadata": {},
   "source": [
    "Then lets use ffmpeg to stitch independent frames back into a video."
   ]
  },
  {
   "cell_type": "code",
   "execution_count": 12,
   "metadata": {},
   "outputs": [
    {
     "name": "stderr",
     "output_type": "stream",
     "text": [
      "ffmpeg version 2.8.15-0ubuntu0.16.04.1 Copyright (c) 2000-2018 the FFmpeg developers\n",
      "  built with gcc 5.4.0 (Ubuntu 5.4.0-6ubuntu1~16.04.10) 20160609\n",
      "  configuration: --prefix=/usr --extra-version=0ubuntu0.16.04.1 --build-suffix=-ffmpeg --toolchain=hardened --libdir=/usr/lib/x86_64-linux-gnu --incdir=/usr/include/x86_64-linux-gnu --cc=cc --cxx=g++ --enable-gpl --enable-shared --disable-stripping --disable-decoder=libopenjpeg --disable-decoder=libschroedinger --enable-avresample --enable-avisynth --enable-gnutls --enable-ladspa --enable-libass --enable-libbluray --enable-libbs2b --enable-libcaca --enable-libcdio --enable-libflite --enable-libfontconfig --enable-libfreetype --enable-libfribidi --enable-libgme --enable-libgsm --enable-libmodplug --enable-libmp3lame --enable-libopenjpeg --enable-libopus --enable-libpulse --enable-librtmp --enable-libschroedinger --enable-libshine --enable-libsnappy --enable-libsoxr --enable-libspeex --enable-libssh --enable-libtheora --enable-libtwolame --enable-libvorbis --enable-libvpx --enable-libwavpack --enable-libwebp --enable-libx265 --enable-libxvid --enable-libzvbi --enable-openal --enable-opengl --enable-x11grab --enable-libdc1394 --enable-libiec61883 --enable-libzmq --enable-frei0r --enable-libx264 --enable-libopencv\n",
      "  libavutil      54. 31.100 / 54. 31.100\n",
      "  libavcodec     56. 60.100 / 56. 60.100\n",
      "  libavformat    56. 40.101 / 56. 40.101\n",
      "  libavdevice    56.  4.100 / 56.  4.100\n",
      "  libavfilter     5. 40.101 /  5. 40.101\n",
      "  libavresample   2.  1.  0 /  2.  1.  0\n",
      "  libswscale      3.  1.101 /  3.  1.101\n",
      "  libswresample   1.  2.101 /  1.  2.101\n",
      "  libpostproc    53.  3.100 / 53.  3.100\n",
      "[mjpeg @ 0x9b5140] Changeing bps to 8\n",
      "Input #0, image2, from 'images/output_of_content_08_29_2018_154627/%05d_orangutan.jpg':\n",
      "  Duration: 00:00:27.47, start: 0.000000, bitrate: N/A\n",
      "    Stream #0:0: Video: mjpeg, yuvj420p(pc, bt470bg/unknown/unknown), 360x360 [SAR 1:1 DAR 1:1], 30 fps, 30 tbr, 30 tbn, 30 tbc\n",
      "[swscaler @ 0x9cdec0] deprecated pixel format used, make sure you did set range correctly\n",
      "[libx264 @ 0xa17a80] using SAR=1/1\n",
      "[libx264 @ 0xa17a80] using cpu capabilities: MMX2 SSE2Fast SSSE3 SSE4.2 AVX FMA3 AVX2 LZCNT BMI2\n",
      "[libx264 @ 0xa17a80] profile High, level 2.1\n",
      "[libx264 @ 0xa17a80] 264 - core 148 r2643 5c65704 - H.264/MPEG-4 AVC codec - Copyleft 2003-2015 - http://www.videolan.org/x264.html - options: cabac=1 ref=3 deblock=1:0:0 analyse=0x3:0x113 me=hex subme=7 psy=1 psy_rd=1.00:0.00 mixed_ref=1 me_range=16 chroma_me=1 trellis=1 8x8dct=1 cqm=0 deadzone=21,11 fast_pskip=1 chroma_qp_offset=-2 threads=9 lookahead_threads=1 sliced_threads=0 nr=0 decimate=1 interlaced=0 bluray_compat=0 constrained_intra=0 bframes=3 b_pyramid=2 b_adapt=1 b_bias=0 direct=1 weightb=1 open_gop=0 weightp=2 keyint=250 keyint_min=25 scenecut=40 intra_refresh=0 rc_lookahead=40 rc=crf mbtree=1 crf=20.0 qcomp=0.60 qpmin=0 qpmax=69 qpstep=4 ip_ratio=1.40 aq=1:1.00\n",
      "Output #0, mp4, to 'video/orangutan_processed_without_audio.mp4':\n",
      "  Metadata:\n",
      "    encoder         : Lavf56.40.101\n",
      "    Stream #0:0: Video: h264 (libx264) ([33][0][0][0] / 0x0021), yuv420p, 360x360 [SAR 1:1 DAR 1:1], q=-1--1, 30 fps, 15360 tbn, 30 tbc\n",
      "    Metadata:\n",
      "      encoder         : Lavc56.60.100 libx264\n",
      "Stream mapping:\n",
      "  Stream #0:0 -> #0:0 (mjpeg (native) -> h264 (libx264))\n",
      "Press [q] to stop, [?] for help\n",
      "frame=  125 fps=0.0 q=26.0 size=    1612kB time=00:00:02.33 bitrate=5658.2kbits/s    \r",
      "frame=  226 fps=223 q=26.0 size=    3845kB time=00:00:05.70 bitrate=5526.1kbits/s    \r",
      "frame=  323 fps=211 q=26.0 size=    6025kB time=00:00:08.93 bitrate=5524.8kbits/s    \r",
      "frame=  427 fps=210 q=26.0 size=    8288kB time=00:00:12.40 bitrate=5475.3kbits/s    \r",
      "frame=  530 fps=209 q=26.0 size=   10555kB time=00:00:15.83 bitrate=5460.8kbits/s    \r",
      "frame=  631 fps=208 q=26.0 size=   12773kB time=00:00:19.20 bitrate=5449.8kbits/s    \r",
      "frame=  724 fps=205 q=26.0 size=   14803kB time=00:00:22.30 bitrate=5437.8kbits/s    \r",
      "frame=  823 fps=203 q=26.0 size=   17043kB time=00:00:25.60 bitrate=5453.7kbits/s    \r",
      "frame=  824 fps=190 q=-1.0 Lsize=   18325kB time=00:00:27.40 bitrate=5478.9kbits/s    \n",
      "video:18315kB audio:0kB subtitle:0kB other streams:0kB global headers:0kB muxing overhead: 0.056461%\n",
      "[libx264 @ 0xa17a80] frame I:4     Avg QP:24.20  size: 30852\n",
      "[libx264 @ 0xa17a80] frame P:431   Avg QP:26.59  size: 25517\n",
      "[libx264 @ 0xa17a80] frame B:389   Avg QP:28.14  size: 19621\n",
      "[libx264 @ 0xa17a80] consecutive B-frames:  5.6% 94.4%  0.0%  0.0%\n",
      "[libx264 @ 0xa17a80] mb I  I16..4:  0.0% 99.9%  0.1%\n",
      "[libx264 @ 0xa17a80] mb P  I16..4:  0.0% 66.6%  1.1%  P16..4:  7.3% 14.0% 11.0%  0.0%  0.0%    skip: 0.0%\n",
      "[libx264 @ 0xa17a80] mb B  I16..4:  0.0% 20.0%  1.0%  B16..8: 25.6% 24.8% 10.6%  direct:17.8%  skip: 0.2%  L0:28.5% L1:13.6% BI:57.8%\n",
      "[libx264 @ 0xa17a80] 8x8 transform intra:97.8% inter:94.5%\n",
      "[libx264 @ 0xa17a80] coded y,uvDC,uvAC intra: 99.1% 100.0% 98.7% inter: 97.3% 93.6% 56.3%\n",
      "[libx264 @ 0xa17a80] i16 v,h,dc,p:  0%  0%  0% 100%\n",
      "[libx264 @ 0xa17a80] i8 v,h,dc,ddl,ddr,vr,hd,vl,hu: 13% 16% 19%  6%  9%  8% 11%  7% 11%\n",
      "[libx264 @ 0xa17a80] i4 v,h,dc,ddl,ddr,vr,hd,vl,hu: 11% 17% 11%  8% 13%  9% 13%  8% 10%\n",
      "[libx264 @ 0xa17a80] i8c dc,h,v,p: 51% 20% 14% 15%\n",
      "[libx264 @ 0xa17a80] Weighted P-Frames: Y:29.2% UV:15.5%\n",
      "[libx264 @ 0xa17a80] ref P L0: 35.4% 14.1% 24.1% 21.3%  5.0%\n",
      "[libx264 @ 0xa17a80] ref B L0: 68.3% 31.7%\n",
      "[libx264 @ 0xa17a80] kb/s:5462.31\n"
     ]
    }
   ],
   "source": [
    "%%script env output_folder_name=\"$output_folder_name\" bash\n",
    "cd pytorch &&\n",
    "    ffmpeg \\\n",
    "        -framerate 30 \\\n",
    "        -i images/$output_folder_name/%05d_${VIDEO_NAME}.jpg \\\n",
    "        -c:v libx264 \\\n",
    "        -profile:v high -crf 20 -pix_fmt yuv420p \\\n",
    "        -y \\\n",
    "        video/${VIDEO_NAME}_processed_without_audio.mp4 "
   ]
  },
  {
   "cell_type": "code",
   "execution_count": 13,
   "metadata": {},
   "outputs": [
    {
     "name": "stderr",
     "output_type": "stream",
     "text": [
      "ffmpeg version 2.8.15-0ubuntu0.16.04.1 Copyright (c) 2000-2018 the FFmpeg developers\n",
      "  built with gcc 5.4.0 (Ubuntu 5.4.0-6ubuntu1~16.04.10) 20160609\n",
      "  configuration: --prefix=/usr --extra-version=0ubuntu0.16.04.1 --build-suffix=-ffmpeg --toolchain=hardened --libdir=/usr/lib/x86_64-linux-gnu --incdir=/usr/include/x86_64-linux-gnu --cc=cc --cxx=g++ --enable-gpl --enable-shared --disable-stripping --disable-decoder=libopenjpeg --disable-decoder=libschroedinger --enable-avresample --enable-avisynth --enable-gnutls --enable-ladspa --enable-libass --enable-libbluray --enable-libbs2b --enable-libcaca --enable-libcdio --enable-libflite --enable-libfontconfig --enable-libfreetype --enable-libfribidi --enable-libgme --enable-libgsm --enable-libmodplug --enable-libmp3lame --enable-libopenjpeg --enable-libopus --enable-libpulse --enable-librtmp --enable-libschroedinger --enable-libshine --enable-libsnappy --enable-libsoxr --enable-libspeex --enable-libssh --enable-libtheora --enable-libtwolame --enable-libvorbis --enable-libvpx --enable-libwavpack --enable-libwebp --enable-libx265 --enable-libxvid --enable-libzvbi --enable-openal --enable-opengl --enable-x11grab --enable-libdc1394 --enable-libiec61883 --enable-libzmq --enable-frei0r --enable-libx264 --enable-libopencv\n",
      "  libavutil      54. 31.100 / 54. 31.100\n",
      "  libavcodec     56. 60.100 / 56. 60.100\n",
      "  libavformat    56. 40.101 / 56. 40.101\n",
      "  libavdevice    56.  4.100 / 56.  4.100\n",
      "  libavfilter     5. 40.101 /  5. 40.101\n",
      "  libavresample   2.  1.  0 /  2.  1.  0\n",
      "  libswscale      3.  1.101 /  3.  1.101\n",
      "  libswresample   1.  2.101 /  1.  2.101\n",
      "  libpostproc    53.  3.100 / 53.  3.100\n",
      "Input #0, mov,mp4,m4a,3gp,3g2,mj2, from '_processed_without_audio.mp4':\n",
      "  Metadata:\n",
      "    major_brand     : isom\n",
      "    minor_version   : 512\n",
      "    compatible_brands: isomiso2avc1mp41\n",
      "    encoder         : Lavf56.40.101\n",
      "  Duration: 00:00:27.47, start: 0.000000, bitrate: 5465 kb/s\n",
      "    Stream #0:0(und): Video: h264 (High) (avc1 / 0x31637661), yuv420p, 360x360 [SAR 1:1 DAR 1:1], 5462 kb/s, 30 fps, 30 tbr, 15360 tbn, 60 tbc (default)\n",
      "    Metadata:\n",
      "      handler_name    : VideoHandler\n",
      "[mp3 @ 0x12a3b80] Skipping 0 bytes of junk at 340.\n",
      "Input #1, mp3, from 'orangutan.mp3':\n",
      "  Metadata:\n",
      "    major_brand     : isom\n",
      "    minor_version   : 512\n",
      "    compatible_brands: isomiso2avc1mp41\n",
      "    encoder         : Lavf56.40.101\n",
      "  Duration: 00:00:27.50, start: 0.023021, bitrate: 64 kb/s\n",
      "    Stream #1:0: Audio: mp3, 48000 Hz, mono, s16p, 64 kb/s\n",
      "[mp4 @ 0x132ac00] Codec for stream 0 does not use global headers but container format requires global headers\n",
      "[mp4 @ 0x132ac00] Codec for stream 1 does not use global headers but container format requires global headers\n",
      "Output #0, mp4, to 'orangutan_processed_with_audio.mp4':\n",
      "  Metadata:\n",
      "    major_brand     : isom\n",
      "    minor_version   : 512\n",
      "    compatible_brands: isomiso2avc1mp41\n",
      "    encoder         : Lavf56.40.101\n",
      "    Stream #0:0(und): Video: h264 ([33][0][0][0] / 0x0021), yuv420p, 360x360 [SAR 1:1 DAR 1:1], q=2-31, 5462 kb/s, 30 fps, 30 tbr, 15360 tbn, 15360 tbc (default)\n",
      "    Metadata:\n",
      "      handler_name    : VideoHandler\n",
      "    Stream #0:1: Audio: mp3 (i[0][0][0] / 0x0069), 48000 Hz, mono, 64 kb/s\n",
      "Stream mapping:\n",
      "  Stream #0:0 -> #0:0 (copy)\n",
      "  Stream #1:0 -> #0:1 (copy)\n",
      "Press [q] to stop, [?] for help\n",
      "frame=  824 fps=0.0 q=-1.0 Lsize=   18554kB time=00:00:27.48 bitrate=5531.0kbits/s    \n",
      "video:18315kB audio:215kB subtitle:0kB other streams:0kB global headers:0kB muxing overhead: 0.132440%\n"
     ]
    }
   ],
   "source": [
    "%%bash\n",
    "cd pytorch/video &&\n",
    "    ffmpeg -i ${VIDEO_NAMEVIDEO_NAME}_processed_without_audio.mp4 -i ${VIDEO_NAME}.mp3 \\\n",
    "        -map 0:0 -map 1:0 \\\n",
    "        -vcodec copy -acodec copy \\\n",
    "        -y \\\n",
    "        ${VIDEO_NAME}_processed_with_audio.mp4"
   ]
  },
  {
   "cell_type": "code",
   "execution_count": 15,
   "metadata": {},
   "outputs": [
    {
     "data": {
      "text/html": [
       "    <video width=\"360\" height=\"360\" controls>          <source src=\"pytorch/video/orangutan_processed_with_audio.mp4\" type=\"video/mp4\">     </video>"
      ],
      "text/plain": [
       "<IPython.core.display.HTML object>"
      ]
     },
     "execution_count": 15,
     "metadata": {},
     "output_type": "execute_result"
    }
   ],
   "source": [
    "from IPython.display import HTML\n",
    "import os\n",
    "HTML('\\\n",
    "    <video width=\"360\" height=\"360\" controls> \\\n",
    "         <source src=\"pytorch/video/{0}_processed_with_audio.mp4\" type=\"video/mp4\"> \\\n",
    "    </video>'\\\n",
    "    .format(os.getenv('VIDEO_NAME'))\n",
    ")"
   ]
  },
  {
   "cell_type": "code",
   "execution_count": 18,
   "metadata": {},
   "outputs": [
    {
     "data": {
      "image/jpeg": "[encoded data removed]",
      "text/plain": [
       "<IPython.core.display.Image object>"
      ]
     },
     "metadata": {},
     "output_type": "display_data"
    },
    {
     "data": {
      "image/jpeg": "[encoded data removed]",
      "text/plain": [
       "<IPython.core.display.Image object>"
      ]
     },
     "metadata": {},
     "output_type": "display_data"
    },
    {
     "data": {
      "image/jpeg": "[encoded data removed]",
      "text/plain": [
       "<IPython.core.display.Image object>"
      ]
     },
     "metadata": {},
     "output_type": "display_data"
    },
    {
     "data": {
      "image/jpeg": "[encoded data removed]",
      "text/plain": [
       "<IPython.core.display.Image object>"
      ]
     },
     "metadata": {},
     "output_type": "display_data"
    }
   ],
   "source": [
    "from IPython.display import Image\n",
    "import os\n",
    "im1 = Image(filename=\"pytorch/images/{0}/00001_{1}.jpg\".format(output_folder_name, os.getenv('VIDEO_NAME')))\n",
    "im2 = Image(filename=\"pytorch/images/{0}/00100_{1}.jpg\".format(output_folder_name, os.getenv('VIDEO_NAME')))\n",
    "im3 = Image(filename=\"pytorch/images/{0}/00300_{1}.jpg\".format(output_folder_name, os.getenv('VIDEO_NAME')))\n",
    "im4 = Image(filename=\"pytorch/images/{0}/00500_{1}.jpg\".format(output_folder_name, os.getenv('VIDEO_NAME')))\n",
    "display(im1, im2, im3, im4)"
   ]
  },
  {
   "cell_type": "markdown",
   "metadata": {},
   "source": [
    "## Delete resources"
   ]
  },
  {
   "cell_type": "markdown",
   "metadata": {},
   "source": [
    "Its always good to clean up your Azure resources after you've completed your workload."
   ]
  },
  {
   "cell_type": "code",
   "execution_count": null,
   "metadata": {},
   "outputs": [],
   "source": [
    "%%bash\n",
    "az group delete --name $RESOURCE_GROUP"
   ]
  }
 ],
 "metadata": {
  "kernelspec": {
   "display_name": "pyenv",
   "language": "python",
   "name": "pyenv"
  },
  "language_info": {
   "codemirror_mode": {
    "name": "ipython",
    "version": 3
   },
   "file_extension": ".py",
   "mimetype": "text/x-python",
   "name": "python",
   "nbconvert_exporter": "python",
   "pygments_lexer": "ipython3",
   "version": "3.6.5"
  }
 },
 "nbformat": 4,
 "nbformat_minor": 2
}
