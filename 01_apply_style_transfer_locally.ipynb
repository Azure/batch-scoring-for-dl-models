{
 "cells": [
  {
   "cell_type": "markdown",
   "metadata": {},
   "source": [
    "# 1. Applying neural style transfer on your local machine\n",
    "This notebook will take us through applying neural style transfer on a few images to make sure that the style transfer works as expected. This will also give us a chance to tune the style transfer parameters so that the output images looks like what you'd want it to."
   ]
  },
  {
   "cell_type": "markdown",
   "metadata": {},
   "source": [
    "In this section we will be using images that come pre-loaded as part of the Github repository:\n",
    "```md\n",
    "├── images/\n",
    "│   ├── sample_content_images/\n",
    "│   ├── sample_output_images/ [<-- this will be created in this notebook]\n",
    "│   └── style_images/\n",
    "└── style_transfer_script.py\n",
    "```\n",
    "\n",
    "As shown from the directory tree above, we will be using a style image, located inside the *style_images* directory, and content images, located inside the *sample_content_images* directory, to perform our local testing. When the repo is downloaded from Github, you will find both these directories populated with some sample images.\n",
    "\n",
    "All output images will be also saved in a newly created directory under *sample_output_images*.\n",
    "\n",
    "Finally, this notebook will use the *style_transfer_script.py* file to perform neural style transfer with. This script uses __pytorch__ and will be the same script used later in this tutorial for performing neural style transfer at scale in the cloud. Thus it is important to test it and get familiar with it while working locally."
   ]
  },
  {
   "cell_type": "markdown",
   "metadata": {},
   "source": [
    "-----"
   ]
  },
  {
   "cell_type": "markdown",
   "metadata": {},
   "source": [
    "Import utilities to help us display images and html embeddings:"
   ]
  },
  {
   "cell_type": "code",
   "execution_count": null,
   "metadata": {},
   "outputs": [],
   "source": [
    "from IPython.display import Image"
   ]
  },
  {
   "cell_type": "markdown",
   "metadata": {},
   "source": [
    "Lets take a look at the style image whose style we'd like to apply onto other images:"
   ]
  },
  {
   "cell_type": "code",
   "execution_count": null,
   "metadata": {},
   "outputs": [],
   "source": [
    "im1 = Image(filename=\"pytorch/images/style_images/sample_renior.jpg\", width=360)\n",
    "display(im1)"
   ]
  },
  {
   "cell_type": "markdown",
   "metadata": {},
   "source": [
    "Lets also take a look at a sample content image that we'll apply the style transfer onto:"
   ]
  },
  {
   "cell_type": "code",
   "execution_count": null,
   "metadata": {},
   "outputs": [],
   "source": [
    "im1 = Image(filename=\"pytorch/images/sample_content_images/sample_0.jpg\", width=360, height=360)\n",
    "display(im1)"
   ]
  },
  {
   "cell_type": "markdown",
   "metadata": {},
   "source": [
    "Lets also create the output directory where we will save any generated style images from this notebook."
   ]
  },
  {
   "cell_type": "code",
   "execution_count": null,
   "metadata": {},
   "outputs": [],
   "source": [
    "!mkdir pytorch/images/sample_output_images"
   ]
  },
  {
   "cell_type": "markdown",
   "metadata": {},
   "source": [
    "Before we run the style transfer script, lets choose some of the values for the hyperparameters for running style transfer.\n",
    "\n",
    "- `style_weight` - the style weight is the amount to weight the style loss when optimizing the overall loss function\n",
    "- `content_weight` - the content weight is the amount to weight the content loss when optimizing the overall loss function\n",
    "- `num_steps` - the number of steps used to optimize\n",
    "- `image_size` - the X and Y dimension in pixel of the image (the script will automatically crop the image such that it is a square)"
   ]
  },
  {
   "cell_type": "code",
   "execution_count": null,
   "metadata": {},
   "outputs": [],
   "source": [
    "style_weight=100000000\n",
    "content_weight=1\n",
    "num_steps=80\n",
    "image_size=360"
   ]
  },
  {
   "cell_type": "markdown",
   "metadata": {},
   "source": [
    "Now create a _.env_ file and save our hyperparameters to our _.env_ file so that we can use it later on in this tutorial."
   ]
  },
  {
   "cell_type": "code",
   "execution_count": null,
   "metadata": {},
   "outputs": [],
   "source": [
    "!touch .env\n",
    "!dotenv set STYLE_WEIGHT $style_weight\n",
    "!dotenv set CONTENT_WEIGHT $content_weight\n",
    "!dotenv set NUM_STEPS $num_steps\n",
    "!dotenv set IMAGE_SIZE $image_size"
   ]
  },
  {
   "cell_type": "code",
   "execution_count": null,
   "metadata": {},
   "outputs": [],
   "source": [
    "%reload_ext dotenv\n",
    "%dotenv"
   ]
  },
  {
   "cell_type": "markdown",
   "metadata": {},
   "source": [
    "Run the style transfer script to make sure that the output images look good. Feel free to tweak the parameters of this script in order to tune the scoring script.\n",
    "\n",
    "- `style-image` - the relative path to the style image\n",
    "- `content-image-dir` - the relative path to the directory of content images to apply the style transfer to\n",
    "- `content-image-list` - (optional) a comma-delimited set of image names located inside the specified content image directory. If left empty, the script will automatically apply style transfer to all found images inside the content image directory.\n",
    "- `output-image-dir` - the relative path of the directory to save output images to\n",
    "- `style-weight`, `content-weight`, `num-steps`, `image-size` - (described above)\n",
    "- `log-file` - the relative path of the output log file"
   ]
  },
  {
   "cell_type": "code",
   "execution_count": null,
   "metadata": {},
   "outputs": [],
   "source": [
    "%%bash -s \"$style_weight\" \"$content_weight\" \"$num_steps\" \"$image_size\"\n",
    "cd pytorch &&\n",
    "    python style_transfer_script.py \\\n",
    "    --style-image ./images/style_images/sample_renior.jpg \\\n",
    "    --content-image-dir ./images/sample_content_images \\\n",
    "    --content-image-list 'sample_0.jpg' \\\n",
    "    --output-image-dir ./images/sample_output_images \\\n",
    "    --style-weight $STYLE_WEIGHT \\\n",
    "    --content-weight $CONTENT_WEIGHT \\\n",
    "    --num-steps $NUM_STEPS \\\n",
    "    --image-size $IMAGE_SIZE \\\n",
    "    --log-file 'sample_style_transfer_script'"
   ]
  },
  {
   "cell_type": "markdown",
   "metadata": {},
   "source": [
    "Take look at the output image to see that the style transfer looks appropriate. If things don't look right, adjust the hyperparameters and re-run *style_transfer_script.py*."
   ]
  },
  {
   "cell_type": "code",
   "execution_count": null,
   "metadata": {},
   "outputs": [],
   "source": [
    "im1 = Image(filename=\"pytorch/images/sample_output_images/sample_0.jpg\", width=360, height=360)\n",
    "display(im1)"
   ]
  },
  {
   "cell_type": "markdown",
   "metadata": {},
   "source": [
    "Awesome! The neural style transfered image looks great. "
   ]
  },
  {
   "cell_type": "markdown",
   "metadata": {},
   "source": [
    "---"
   ]
  },
  {
   "cell_type": "markdown",
   "metadata": {},
   "source": [
    "## Conclusion\n",
    "In this notebook, we've tested our style transfer script locally and figured out which hyperparameters we'd like to use in order to generate style transfered images. \n",
    "\n",
    "Having done this, we've now got a good sense of how the style transfer script works, and what the parameters it takes are. This will be useful for later parts in the tutorial as we'll reuse this exact script for scaling up our style transfer workload in Azure.\n",
    "\n",
    "Next, lets get the video we want to apply style transfer too preprocessed so that we are ready to start working with it in Azure."
   ]
  }
 ],
 "metadata": {
  "kernelspec": {
   "display_name": "Python [conda env:batchscoringdl]",
   "language": "python",
   "name": "conda-env-batchscoringdl-py"
  },
  "language_info": {
   "codemirror_mode": {
    "name": "ipython",
    "version": 3
   },
   "file_extension": ".py",
   "mimetype": "text/x-python",
   "name": "python",
   "nbconvert_exporter": "python",
   "pygments_lexer": "ipython3",
   "version": "3.6.6"
  }
 },
 "nbformat": 4,
 "nbformat_minor": 2
}
