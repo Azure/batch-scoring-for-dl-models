{
 "cells": [
  {
   "cell_type": "markdown",
   "metadata": {},
   "source": [
    "# Running the Batch AI job from Docker\n",
    "[todo]"
   ]
  },
  {
   "cell_type": "markdown",
   "metadata": {},
   "source": [
    "---"
   ]
  },
  {
   "cell_type": "code",
   "execution_count": null,
   "metadata": {},
   "outputs": [],
   "source": [
    "docker_image_tag = \"<docker-image-tag>\"\n",
    "docker_user = \"<docker-username>\""
   ]
  },
  {
   "cell_type": "code",
   "execution_count": null,
   "metadata": {},
   "outputs": [],
   "source": [
    "!dotenv set DOCKER_IMAGE_TAG $docker_image_tag\n",
    "!dotenv set DOCKER_USER $docker_user"
   ]
  },
  {
   "cell_type": "code",
   "execution_count": null,
   "metadata": {},
   "outputs": [],
   "source": [
    "%reload_ext dotenv\n",
    "%dotenv"
   ]
  },
  {
   "cell_type": "markdown",
   "metadata": {},
   "source": [
    "Create a requirements.txt file that will be used in the docker image"
   ]
  },
  {
   "cell_type": "code",
   "execution_count": null,
   "metadata": {},
   "outputs": [],
   "source": [
    "%%weritefile az/requirements.txt\n",
    "azure==4.0.0\n",
    "azure-mgmt-batchai==2.0.0\n",
    "iteration-utilities==0.7.0"
   ]
  },
  {
   "cell_type": "markdown",
   "metadata": {},
   "source": [
    "Create the docker image"
   ]
  },
  {
   "cell_type": "code",
   "execution_count": null,
   "metadata": {},
   "outputs": [],
   "source": [
    "%%writefile az/Dockerfile\n",
    "FROM python:3.6-jessie\n",
    "WORKDIR /job\n",
    "ADD create_job.py /job\n",
    "ADD util /job/util\n",
    "ADD requirements.txt /job\n",
    "\n",
    "RUN pip install --trusted-host pypi.python.org -r requirements.txt\n",
    "\n",
    "CMD [\"python\", \"create_job.py\"]"
   ]
  },
  {
   "cell_type": "code",
   "execution_count": null,
   "metadata": {},
   "outputs": [],
   "source": [
    "! cd az && sudo docker build -t $DOCKER_IMAGE_TAG ."
   ]
  },
  {
   "cell_type": "code",
   "execution_count": null,
   "metadata": {},
   "outputs": [],
   "source": [
    "%%bash\n",
    "sudo docker run -d --name $DOCKER_IMAGE_TAG \\\n",
    "    -e AAD_CLIENT_ID=$AAD_CLIENT_ID \\\n",
    "    -e AAD_SECRET=$AAD_SECRET \\\n",
    "    -e AAD_TENANT=$AAD_TENANT \\\n",
    "    -e STORAGE_ACCOUNT_NAME=$STORAGE_ACCOUNT_NAME \\\n",
    "    -e STORAGE_ACCOUNT_KEY=$STORAGE_ACCOUNT_KEY \\\n",
    "    -e ADMIN_USER_NAME=$ADMIN_USER_NAME\\\n",
    "    -e ADMIN_USER_PASSWORD=$ADMIN_USER_PASSWORD \\\n",
    "    -e SUBSCRIPTION_ID=$SUBSCRIPTION_ID \\\n",
    "    -e RESOURCE_GROUP=$RESOURCE_GROUP \\\n",
    "    -e REGION=$REGION \\\n",
    "    -e AZURE_CONTAINER_NAME=$AZURE_CONTAINER_NAME \\\n",
    "    -e FS_SCRIPT=$FS_SCRIPT \\\n",
    "    -e FS_STYLE_IMG=$FS_STYLE_IMG \\\n",
    "    -e FS_CONTENT_DIR=$FS_CONTENT_DIR \\\n",
    "    -e FS_OUTPUT_DIR_PREFIX=$FS_OUTPUT_DIR_PREFIX \\\n",
    "    -e FS_LOGGER_DIR_PREFIX=$FS_LOGGER_DIR_PREFIX \\\n",
    "    -e WORKSPACE=$WORKSPACE \\\n",
    "    -e EXPERIMENT_PREFIX=$EXPERIMENT_PREFIX \\\n",
    "    -e JOB_NAME_PREFIX=$JOB_NAME_PREFIX \\\n",
    "    -e JOB_NODE_COUNT=$JOB_NODE_COUNT \\\n",
    "    -e JOB_BATCH_SIZE=$JOB_BATCH_SIZE \\\n",
    "    -e CLUSTER_NAME=$CLUSTER_NAME \\\n",
    "    -e CLUSTER_CONTAINER_MNT_PATH=$CLUSTER_CONTAINER_MNT_PATH \\\n",
    "    -e STYLE_WEIGHT=$STYLE_WEIGHT \\\n",
    "    -e CONTENT_WEIGHT=$CONTENT_WEIGHT \\\n",
    "    -e NUM_STEPS=$NUM_STEPS \\\n",
    "    -e IMAGE_SIZE=$IMAGE_SIZE \\\n",
    "    $DOCKER_IMAGE_TAG"
   ]
  },
  {
   "cell_type": "code",
   "execution_count": null,
   "metadata": {},
   "outputs": [],
   "source": [
    "!sudo docker logs $DOCKER_IMAGE_TAG"
   ]
  },
  {
   "cell_type": "code",
   "execution_count": null,
   "metadata": {},
   "outputs": [],
   "source": [
    "!sudo docker tag $DOCKER_IMAGE_TAG $DOCKER_USER/$DOCKER_IMAGE_TAG\n",
    "!sudo docker push $DOCKER_USER/$DOCKER_IMAGE_TAG"
   ]
  },
  {
   "cell_type": "markdown",
   "metadata": {},
   "source": [
    "---"
   ]
  },
  {
   "cell_type": "markdown",
   "metadata": {},
   "source": [
    "## Conclusion\n",
    "[todo]"
   ]
  }
 ],
 "metadata": {
  "kernelspec": {
   "display_name": "Python [conda env:batchscoringdl]",
   "language": "python",
   "name": "conda-env-batchscoringdl-py"
  },
  "language_info": {
   "codemirror_mode": {
    "name": "ipython",
    "version": 3
   },
   "file_extension": ".py",
   "mimetype": "text/x-python",
   "name": "python",
   "nbconvert_exporter": "python",
   "pygments_lexer": "ipython3",
   "version": "3.6.6"
  }
 },
 "nbformat": 4,
 "nbformat_minor": 2
}
