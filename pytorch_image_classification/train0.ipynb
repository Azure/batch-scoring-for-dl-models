{
 "cells": [
  {
   "cell_type": "markdown",
   "metadata": {},
   "source": [
    "## Load and normalizing the CIFAR10 Training and Test datasets using TorchVision"
   ]
  },
  {
   "cell_type": "code",
   "execution_count": 1,
   "metadata": {},
   "outputs": [],
   "source": [
    "import torch\n",
    "from torch.utils.data import DataLoader\n",
    "import torchvision\n",
    "import torchvision.transforms as transforms\n",
    "import os\n",
    "from skimage import io, transform\n",
    "import matplotlib.pyplot as plt\n",
    "import numpy as np\n",
    "import warnings\n",
    "warnings.filterwarnings('ignore')"
   ]
  },
  {
   "cell_type": "code",
   "execution_count": 2,
   "metadata": {},
   "outputs": [],
   "source": [
    "label_map = {\n",
    "    'dog': 0,\n",
    "    'bird': 1, \n",
    "    'airplane': 2,\n",
    "    'horse': 3,\n",
    "    'frog': 4,\n",
    "    'automobile': 5,\n",
    "    'cat': 6,\n",
    "    'deer': 7,\n",
    "    'truck': 8, \n",
    "    'ship': 9\n",
    "}\n",
    "\n",
    "def get_category(i):\n",
    "    for k, v in label_map.items():\n",
    "        if v == i:\n",
    "            return k"
   ]
  },
  {
   "cell_type": "code",
   "execution_count": 3,
   "metadata": {},
   "outputs": [],
   "source": [
    "class CifarDataset(torch.utils.data.Dataset):\n",
    "  \n",
    "  def __init__(self, root_dir, transform=None):\n",
    "    '''\n",
    "    Args:\n",
    "      root_dir (string): dir with all the images\n",
    "      transform (callable, optional): Optional transform to be\n",
    "        applied on a sample\n",
    "    '''\n",
    "    self.root_dir = root_dir\n",
    "    self.files = [f for f in os.listdir(root_dir) if os.path.isfile(os.path.join(root_dir, f))]\n",
    "    self.transform = transform\n",
    "\n",
    "  def __len__(self):\n",
    "    return len(self.files)\n",
    "\n",
    "  def __getitem__(self, idx):\n",
    "    img_name = self.files[idx]\n",
    "    image = io.imread(os.path.join(self.root_dir, img_name))\n",
    "\n",
    "    category = img_name[:-4].split('_')[-1]\n",
    "    label = label_map[category]\n",
    "\n",
    "    if self.transform:\n",
    "      image = self.transform(image)\n",
    "\n",
    "    return image, label"
   ]
  },
  {
   "cell_type": "code",
   "execution_count": 4,
   "metadata": {},
   "outputs": [],
   "source": [
    "class Rescale(object):\n",
    "\n",
    "  def __init__(self, output_size):\n",
    "    assert isinstance(output_size, (int, tuple))\n",
    "    self.output_size = output_size\n",
    "\n",
    "  def __call__(self, image):\n",
    "    h, w = image.shape[:2]\n",
    "    if isinstance(self.output_size, int):\n",
    "      if h > w:\n",
    "        new_h, new_w = self.output_size * h / w, self.output_size\n",
    "      else:\n",
    "        new_h, new_w = self.output_size, self.output_size * w / h\n",
    "    else:\n",
    "      new_h, new_w = self.output_size\n",
    "\n",
    "    img = transform.resize(image, (int(new_h), int(new_w)))\n",
    "    return img"
   ]
  },
  {
   "cell_type": "code",
   "execution_count": 5,
   "metadata": {},
   "outputs": [],
   "source": [
    "trainset = CifarDataset(root_dir='./data/cifar/train', transform=torchvision.transforms.Compose([Rescale(32)]))\n",
    "trainloader = DataLoader(trainset, batch_size=4, shuffle=True, num_workers=2)\n",
    "\n",
    "testset = CifarDataset(root_dir='./data/cifar/test', transform=torchvision.transforms.Compose([Rescale(32)]))\n",
    "testloader = DataLoader(testset, batch_size=4, shuffle=False, num_workers=2)\n"
   ]
  },
  {
   "cell_type": "markdown",
   "metadata": {},
   "source": [
    "## Visualizing the some random images/labels from the CIFAR10 dataset"
   ]
  },
  {
   "cell_type": "code",
   "execution_count": 6,
   "metadata": {},
   "outputs": [
    {
     "name": "stdout",
     "output_type": "stream",
     "text": [
      "automobile\n"
     ]
    },
    {
     "data": {
      "image/png": "[encoded data removed]",
      "text/plain": [
       "<Figure size 432x288 with 1 Axes>"
      ]
     },
     "metadata": {},
     "output_type": "display_data"
    }
   ],
   "source": [
    "# get a random training image\n",
    "dataiter = iter(trainloader)\n",
    "images, labels = dataiter.next()\n",
    "\n",
    "plt.imshow(images[0].numpy())\n",
    "print(get_category(labels[0]))"
   ]
  },
  {
   "cell_type": "markdown",
   "metadata": {},
   "source": [
    "## Setup GPU if detected"
   ]
  },
  {
   "cell_type": "code",
   "execution_count": 7,
   "metadata": {},
   "outputs": [
    {
     "name": "stdout",
     "output_type": "stream",
     "text": [
      "cuda:0\n"
     ]
    }
   ],
   "source": [
    "device = torch.device(\"cuda:0\" if torch.cuda.is_available() else \"cpu\")\n",
    "\n",
    "# Assume that we are on a CUDA machine, then this should print a CUDA device:\n",
    "\n",
    "print(device)"
   ]
  },
  {
   "cell_type": "markdown",
   "metadata": {},
   "source": [
    "## Define CNN"
   ]
  },
  {
   "cell_type": "code",
   "execution_count": 8,
   "metadata": {},
   "outputs": [
    {
     "data": {
      "text/plain": [
       "Net(\n",
       "  (conv1): Conv2d(3, 6, kernel_size=(5, 5), stride=(1, 1))\n",
       "  (pool): MaxPool2d(kernel_size=2, stride=2, padding=0, dilation=1, ceil_mode=False)\n",
       "  (conv2): Conv2d(6, 16, kernel_size=(5, 5), stride=(1, 1))\n",
       "  (fc1): Linear(in_features=400, out_features=120, bias=True)\n",
       "  (fc2): Linear(in_features=120, out_features=84, bias=True)\n",
       "  (fc3): Linear(in_features=84, out_features=10, bias=True)\n",
       ")"
      ]
     },
     "execution_count": 8,
     "metadata": {},
     "output_type": "execute_result"
    }
   ],
   "source": [
    "import torch.nn as nn\n",
    "import torch.nn.functional as F\n",
    "\n",
    "\n",
    "class Net(nn.Module):\n",
    "    def __init__(self):\n",
    "        super(Net, self).__init__()\n",
    "        self.conv1 = nn.Conv2d(3, 6, 5)\n",
    "        self.pool = nn.MaxPool2d(2, 2)\n",
    "        self.conv2 = nn.Conv2d(6, 16, 5)\n",
    "        self.fc1 = nn.Linear(16 * 5 * 5, 120)\n",
    "        self.fc2 = nn.Linear(120, 84)\n",
    "        self.fc3 = nn.Linear(84, 10)\n",
    "\n",
    "    def forward(self, x):\n",
    "        x = self.pool(F.relu(self.conv1(x)))\n",
    "        x = self.pool(F.relu(self.conv2(x)))\n",
    "        x = x.view(-1, 16 * 5 * 5)\n",
    "        x = F.relu(self.fc1(x))\n",
    "        x = F.relu(self.fc2(x))\n",
    "        x = self.fc3(x)\n",
    "        return x\n",
    "\n",
    "\n",
    "net = Net()\n",
    "net.cuda()"
   ]
  },
  {
   "cell_type": "markdown",
   "metadata": {},
   "source": [
    "## Define a Loss Function and Optimizer\n"
   ]
  },
  {
   "cell_type": "code",
   "execution_count": 9,
   "metadata": {},
   "outputs": [],
   "source": [
    "import torch.optim as optim\n",
    "\n",
    "criterion = nn.CrossEntropyLoss()\n",
    "optimizer = optim.SGD(net.parameters(), lr=0.001, momentum=0.9)"
   ]
  },
  {
   "cell_type": "markdown",
   "metadata": {},
   "source": [
    "## Train the CNN"
   ]
  },
  {
   "cell_type": "code",
   "execution_count": 20,
   "metadata": {},
   "outputs": [
    {
     "name": "stdout",
     "output_type": "stream",
     "text": [
      "[1,  2000] loss: 1.523\n",
      "[1,  4000] loss: 1.539\n",
      "[1,  6000] loss: 1.562\n",
      "[1,  8000] loss: 1.543\n",
      "[1, 10000] loss: 1.526\n",
      "[1, 12000] loss: 1.536\n",
      "[2,  2000] loss: 1.507\n",
      "[2,  4000] loss: 1.507\n",
      "[2,  6000] loss: 1.513\n",
      "[2,  8000] loss: 1.494\n",
      "[2, 10000] loss: 1.500\n",
      "[2, 12000] loss: 1.494\n",
      "[3,  2000] loss: 1.468\n",
      "[3,  4000] loss: 1.462\n",
      "[3,  6000] loss: 1.461\n",
      "[3,  8000] loss: 1.478\n",
      "[3, 10000] loss: 1.464\n",
      "[3, 12000] loss: 1.490\n",
      "[4,  2000] loss: 1.423\n",
      "[4,  4000] loss: 1.436\n",
      "[4,  6000] loss: 1.433\n",
      "[4,  8000] loss: 1.459\n",
      "[4, 10000] loss: 1.464\n",
      "[4, 12000] loss: 1.459\n",
      "[5,  2000] loss: 1.384\n",
      "[5,  4000] loss: 1.413\n",
      "[5,  6000] loss: 1.404\n",
      "[5,  8000] loss: 1.444\n",
      "[5, 10000] loss: 1.426\n",
      "[5, 12000] loss: 1.452\n",
      "[6,  2000] loss: 1.372\n",
      "[6,  4000] loss: 1.377\n",
      "[6,  6000] loss: 1.394\n",
      "[6,  8000] loss: 1.406\n",
      "[6, 10000] loss: 1.414\n",
      "[6, 12000] loss: 1.429\n",
      "[7,  2000] loss: 1.359\n",
      "[7,  4000] loss: 1.369\n",
      "[7,  6000] loss: 1.358\n",
      "[7,  8000] loss: 1.390\n",
      "[7, 10000] loss: 1.399\n",
      "[7, 12000] loss: 1.389\n",
      "[8,  2000] loss: 1.343\n",
      "[8,  4000] loss: 1.347\n",
      "[8,  6000] loss: 1.366\n",
      "[8,  8000] loss: 1.363\n",
      "[8, 10000] loss: 1.370\n",
      "[8, 12000] loss: 1.368\n",
      "[9,  2000] loss: 1.301\n",
      "[9,  4000] loss: 1.327\n",
      "[9,  6000] loss: 1.341\n",
      "[9,  8000] loss: 1.339\n",
      "[9, 10000] loss: 1.375\n",
      "[9, 12000] loss: 1.349\n",
      "[10,  2000] loss: 1.273\n",
      "[10,  4000] loss: 1.311\n",
      "[10,  6000] loss: 1.340\n",
      "[10,  8000] loss: 1.350\n",
      "[10, 10000] loss: 1.339\n",
      "[10, 12000] loss: 1.330\n",
      "Finished Training\n"
     ]
    }
   ],
   "source": [
    "for epoch in range(10):  # loop over the dataset multiple times (probably 10 epochs...)\n",
    "\n",
    "    running_loss = 0.0\n",
    "    for i, data in enumerate(trainloader, 0):\n",
    "        # get the inputs\n",
    "        inputs, labels = data\n",
    "        \n",
    "        # enforce shape & cast to floats\n",
    "        inputs = inputs.view([4, 3, 32, 32]).float()\n",
    "\n",
    "        # zero the parameter gradients\n",
    "        optimizer.zero_grad()\n",
    "\n",
    "        # forward + backward + optimize\n",
    "        outputs = net(inputs.cuda())\n",
    "        loss = criterion(outputs.cuda(), labels.cuda())\n",
    "        loss.backward()\n",
    "        optimizer.step()\n",
    "\n",
    "        # print statistics\n",
    "        running_loss += loss.item()\n",
    "        if i % 2000 == 1999:    # print every 2000 mini-batches\n",
    "            print('[%d, %5d] loss: %.3f' %\n",
    "                  (epoch + 1, i + 1, running_loss / 5000))\n",
    "            running_loss = 0.0\n",
    "\n",
    "print('Finished Training')"
   ]
  },
  {
   "cell_type": "markdown",
   "metadata": {},
   "source": [
    "## Test the network on the test data"
   ]
  },
  {
   "cell_type": "markdown",
   "metadata": {},
   "source": [
    "Load images from the testloader and also see their labels to know the 'truth'"
   ]
  },
  {
   "cell_type": "code",
   "execution_count": 21,
   "metadata": {},
   "outputs": [
    {
     "name": "stdout",
     "output_type": "stream",
     "text": [
      "dog\n"
     ]
    },
    {
     "data": {
      "image/png": "[encoded data removed]",
      "text/plain": [
       "<Figure size 432x288 with 1 Axes>"
      ]
     },
     "metadata": {},
     "output_type": "display_data"
    }
   ],
   "source": [
    "dataiter = iter(testloader)\n",
    "images, labels = dataiter.next()\n",
    "\n",
    "plt.imshow(images[1].numpy())\n",
    "print(get_category(labels[1]))"
   ]
  },
  {
   "cell_type": "markdown",
   "metadata": {},
   "source": [
    "Predict the classes of the images to contrast the 'ground truth' results"
   ]
  },
  {
   "cell_type": "code",
   "execution_count": 23,
   "metadata": {},
   "outputs": [
    {
     "name": "stdout",
     "output_type": "stream",
     "text": [
      "dog\n"
     ]
    }
   ],
   "source": [
    "images = images.view([4, 3, 32, 32]).float()\n",
    "\n",
    "outputs = net(images.cuda())\n",
    "\n",
    "_, predicted = torch.max(outputs, 1)\n",
    "\n",
    "print(get_category(predicted[1]))"
   ]
  },
  {
   "cell_type": "markdown",
   "metadata": {},
   "source": [
    "Let us look at how the network performs on the whole dataset."
   ]
  },
  {
   "cell_type": "code",
   "execution_count": 24,
   "metadata": {},
   "outputs": [
    {
     "name": "stdout",
     "output_type": "stream",
     "text": [
      "Accuracy of the network on the 10000 test images: 44 %\n"
     ]
    }
   ],
   "source": [
    "correct = 0\n",
    "total = 0\n",
    "with torch.no_grad():\n",
    "    for data in testloader:\n",
    "        images, labels = data\n",
    "        images = images.view([4, 3, 32, 32]).float()\n",
    "        outputs = net(images.cuda())\n",
    "        _, predicted = torch.max(outputs.data, 1)\n",
    "        total += labels.size(0)\n",
    "        correct += (predicted == labels.cuda()).sum().item()\n",
    "\n",
    "print('Accuracy of the network on the 10000 test images: %d %%' % (100 * correct / total))"
   ]
  },
  {
   "cell_type": "markdown",
   "metadata": {},
   "source": [
    "What are the classes that performed well, and the classes that did not perform well?"
   ]
  },
  {
   "cell_type": "code",
   "execution_count": 25,
   "metadata": {},
   "outputs": [
    {
     "name": "stdout",
     "output_type": "stream",
     "text": [
      "Accuracy of        dog :  35 %\n",
      "Accuracy of       bird :  41 %\n",
      "Accuracy of   airplane :  51 %\n",
      "Accuracy of      horse :  44 %\n",
      "Accuracy of       frog :  52 %\n",
      "Accuracy of automobile :  71 %\n",
      "Accuracy of        cat :  32 %\n",
      "Accuracy of       deer :  26 %\n",
      "Accuracy of      truck :  33 %\n",
      "Accuracy of       ship :  55 %\n"
     ]
    }
   ],
   "source": [
    "class_correct = list(0. for i in range(10))\n",
    "class_total = list(0. for i in range(10))\n",
    "with torch.no_grad():\n",
    "    for data in testloader:\n",
    "        images, labels = data\n",
    "        images = images.view([4, 3, 32, 32]).float()\n",
    "        inputs, labels = inputs.cuda(), labels.cuda()\n",
    "        outputs = net(images.cuda())\n",
    "        _, predicted = torch.max(outputs, 1)\n",
    "        c = (predicted == labels).squeeze()\n",
    "        for i in range(4):\n",
    "            label = labels[i]\n",
    "            class_correct[label] += c[i].item()\n",
    "            class_total[label] += 1\n",
    "\n",
    "\n",
    "for i in range(10):\n",
    "    print('Accuracy of %10s : %3d %%' % (\n",
    "        get_category(i), 100 * class_correct[i] / class_total[i]))"
   ]
  },
  {
   "cell_type": "markdown",
   "metadata": {},
   "source": [
    "## Save model"
   ]
  },
  {
   "cell_type": "code",
   "execution_count": 27,
   "metadata": {},
   "outputs": [],
   "source": [
    "torch.save(net.state_dict(), \"model0\")"
   ]
  }
 ],
 "metadata": {
  "kernelspec": {
   "display_name": "pyenv",
   "language": "python",
   "name": "pyenv"
  },
  "language_info": {
   "codemirror_mode": {
    "name": "ipython",
    "version": 3
   },
   "file_extension": ".py",
   "mimetype": "text/x-python",
   "name": "python",
   "nbconvert_exporter": "python",
   "pygments_lexer": "ipython3",
   "version": "3.6.5"
  }
 },
 "nbformat": 4,
 "nbformat_minor": 2
}
