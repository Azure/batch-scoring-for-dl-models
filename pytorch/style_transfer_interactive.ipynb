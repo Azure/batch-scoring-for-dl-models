{
 "cells": [
  {
   "cell_type": "markdown",
   "metadata": {},
   "source": [
    "# Neural Transfer\n",
    "\n",
    "This code is largely based off the work by __Alexis Jacq__ `<https://alexis-jacq.github.io>`, and is the implementation of the paper: _Image Style Transfer Using Convolutional Neural Networks_ `<https://arxiv.org/avs/1508.06576>` developed by __Leon A. Gatys__, __Alexander S. Ecker__, and __Matthias Bethge__."
   ]
  },
  {
   "cell_type": "markdown",
   "metadata": {},
   "source": [
    "Use this notebook to interactively apply style transfer onto a set of images."
   ]
  },
  {
   "cell_type": "code",
   "execution_count": 1,
   "metadata": {},
   "outputs": [],
   "source": [
    "from __future__ import print_function\n",
    "\n",
    "import torch\n",
    "import torch.nn as nn\n",
    "import torch.nn.functional as F\n",
    "import torch.optim as optim\n",
    "\n",
    "from PIL import Image\n",
    "import matplotlib.pyplot as plt\n",
    "\n",
    "import torchvision.transforms as transforms\n",
    "import torchvision.models as models\n",
    "import torchvision.utils as util\n",
    "\n",
    "from torch.utils.data import DataLoader\n",
    "\n",
    "import copy\n",
    "import os"
   ]
  },
  {
   "cell_type": "code",
   "execution_count": 2,
   "metadata": {},
   "outputs": [],
   "source": [
    "device = torch.device(\"cuda\" if torch.cuda.is_available() else \"cpu\")"
   ]
  },
  {
   "cell_type": "markdown",
   "metadata": {},
   "source": [
    "## Define Paths to Images"
   ]
  },
  {
   "cell_type": "code",
   "execution_count": null,
   "metadata": {},
   "outputs": [],
   "source": [
    "# location of style image\n",
    "STYLE_IMAGE = \"images/style_images/sample_renior.jpg\"\n",
    "\n",
    "# location of directory of content images\n",
    "CONTENT_IMAGE_DIR = \"./images/sample_content_images\"\n",
    "\n",
    "# (optional) Choose specific images in CONTENT_IMAGE_DIR. Will use ALL images in the CONTENT_IMAGE_DIR if None.\n",
    "CONTENT_IMAGE_LIST = [\"sample_3.jpg\"]\n",
    "\n",
    "# location of output directory (make sure this directory exists, create it if it doesn't)\n",
    "OUTPUT_DIR = \"./images/sample_output_images\""
   ]
  },
  {
   "cell_type": "code",
   "execution_count": null,
   "metadata": {},
   "outputs": [],
   "source": [
    "assert os.path.exists(STYLE_IMAGE)\n",
    "assert os.path.exists(CONTENT_IMAGE_DIR)\n",
    "assert os.path.exists(OUTPUT_DIR)\n",
    "assert os.path.isdir(CONTENT_IMAGE_DIR)\n",
    "assert os.path.isdir(OUTPUT_DIR)\n",
    "for image_file in CONTENT_IMAGE_LIST:\n",
    "    assert os.path.exists(os.path.join(CONTENT_IMAGE_DIR, image_file))"
   ]
  },
  {
   "cell_type": "markdown",
   "metadata": {},
   "source": [
    "## Define Variables to Tune"
   ]
  },
  {
   "cell_type": "code",
   "execution_count": null,
   "metadata": {},
   "outputs": [],
   "source": [
    "# Content & Style weights\n",
    "STYLE_WEIGHT = 10**8\n",
    "CONTENT_WEIGHT = 10**0\n",
    "\n",
    "# steps to create image\n",
    "NUM_STEPS = 80\n",
    "\n",
    "# image size\n",
    "IMAGE_SIZE = 360"
   ]
  },
  {
   "cell_type": "markdown",
   "metadata": {},
   "source": [
    "## Define content dataset "
   ]
  },
  {
   "cell_type": "code",
   "execution_count": null,
   "metadata": {},
   "outputs": [],
   "source": [
    "class ContentDataset(torch.utils.data.Dataset):\n",
    "    '''\n",
    "    This class is used to manage the content images.\n",
    "    '''\n",
    "\n",
    "    def __init__(self, root_dir, files=None, transform=None):\n",
    "        '''\n",
    "        Args:\n",
    "          root_dir (string): dir with all the images\n",
    "          files ([string], optional): array of all the images to use in root_dir\n",
    "            if not specified, use all images in root_dir\n",
    "          transform (callable, optional): Optional transform to be\n",
    "            applied on a sample\n",
    "        '''\n",
    "        self.root_dir = root_dir\n",
    "\n",
    "        self.files = [f for f in (os.listdir(root_dir) if files is None else files) \\\n",
    "                      if os.path.isfile(os.path.join(root_dir, f))]\n",
    "\n",
    "        self.transform = transform\n",
    "\n",
    "    def __len__(self):\n",
    "        '''\n",
    "        Return total number of files in the dataset\n",
    "        '''\n",
    "        return len(self.files)\n",
    "\n",
    "    def __getitem__(self, idx):\n",
    "        '''\n",
    "        Get the image and image name of the i-th image in the dataset\n",
    "        '''\n",
    "        img_name = self.files[idx]\n",
    "        img = Image.open(os.path.join(self.root_dir, img_name))\n",
    "\n",
    "        if self.transform:\n",
    "            img = self.transform(img)\n",
    "\n",
    "        return img, img_name\n"
   ]
  },
  {
   "cell_type": "markdown",
   "metadata": {},
   "source": [
    "## Define classes for Style transfer"
   ]
  },
  {
   "cell_type": "code",
   "execution_count": null,
   "metadata": {},
   "outputs": [],
   "source": [
    "class StyleLoss(nn.Module):\n",
    "\n",
    "    def __init__(self, target_feature):\n",
    "        super(StyleLoss, self).__init__()\n",
    "        self.target = self._gram_matrix(target_feature).detach()\n",
    "\n",
    "    def forward(self, input):\n",
    "        G = self._gram_matrix(input)\n",
    "        self.loss = F.mse_loss(G, self.target)\n",
    "        return input\n",
    "    \n",
    "    def _gram_matrix(self, input):\n",
    "        a, b, c, d = input.size()  # a=batch size(=1)\n",
    "        # b=number of feature maps\n",
    "        # (c,d)=dimensions of a f. map (N=c*d)\n",
    "\n",
    "        features = input.view(a * b, c * d)  # resise F_XL into \\hat F_XL\n",
    "\n",
    "        G = torch.mm(features, features.t())  # compute the gram product\n",
    "\n",
    "        # we 'normalize' the values of the gram matrix\n",
    "        # by dividing by the number of element in each feature maps.\n",
    "        return G.div(a * b * c * d)\n",
    "\n",
    "    \n",
    "class ContentLoss(nn.Module):\n",
    "\n",
    "    def __init__(self, target,):\n",
    "        super(ContentLoss, self).__init__()\n",
    "        # we 'detach' the target content from the tree used\n",
    "        # to dynamically compute the gradient: this is a stated value,\n",
    "        # not a variable. Otherwise the forward method of the criterion\n",
    "        # will throw an error.\n",
    "        self.target = target.detach()\n",
    "\n",
    "    def forward(self, input):\n",
    "        self.loss = F.mse_loss(input, self.target)\n",
    "        return input\n",
    "    \n",
    "    \n",
    "# create a module to normalize input image so we can easily put it in a\n",
    "# nn.Sequential\n",
    "class Normalization(nn.Module):\n",
    "    def __init__(self, mean, std):\n",
    "        super(Normalization, self).__init__()\n",
    "        # .view the mean and std to make them [C x 1 x 1] so that they can\n",
    "        # directly work with image Tensor of shape [B x C x H x W].\n",
    "        # B is batch size. C is number of channels. H is height and W is width.\n",
    "        self.mean = torch.tensor(mean).view(-1, 1, 1)\n",
    "        self.std = torch.tensor(std).view(-1, 1, 1)\n",
    "\n",
    "    def forward(self, img):\n",
    "        # normalize img\n",
    "        return (img - self.mean) / self.std"
   ]
  },
  {
   "cell_type": "markdown",
   "metadata": {},
   "source": [
    "## Define Functions"
   ]
  },
  {
   "cell_type": "code",
   "execution_count": null,
   "metadata": {},
   "outputs": [],
   "source": [
    "# desired depth layers to compute style/content losses:\n",
    "def get_style_model_and_losses(cnn, normalization_mean, normalization_std,\n",
    "                               style_img, content_img,\n",
    "                               content_layers=['conv_4'],\n",
    "                               style_layers=['conv_1', 'conv_2', 'conv_3', 'conv_4', 'conv_5']):\n",
    "    cnn = copy.deepcopy(cnn)\n",
    "\n",
    "    # normalization module\n",
    "    normalization = Normalization(normalization_mean, normalization_std).to(device)\n",
    "\n",
    "    # just in order to have an iterable access to or list of content/syle\n",
    "    # losses\n",
    "    content_losses = []\n",
    "    style_losses = []\n",
    "\n",
    "    # assuming that cnn is a nn.Sequential, so we make a new nn.Sequential\n",
    "    # to put in modules that are supposed to be activated sequentially\n",
    "    model = nn.Sequential(normalization)\n",
    "\n",
    "    i = 0  # increment every time we see a conv\n",
    "    for layer in cnn.children():\n",
    "        if isinstance(layer, nn.Conv2d):\n",
    "            i += 1\n",
    "            name = 'conv_{}'.format(i)\n",
    "        elif isinstance(layer, nn.ReLU):\n",
    "            name = 'relu_{}'.format(i)\n",
    "            # The in-place version doesn't play very nicely with the ContentLoss\n",
    "            # and StyleLoss we insert below. So we replace with out-of-place\n",
    "            # ones here.\n",
    "            layer = nn.ReLU(inplace=False)\n",
    "        elif isinstance(layer, nn.MaxPool2d):\n",
    "            name = 'pool_{}'.format(i)\n",
    "        elif isinstance(layer, nn.BatchNorm2d):\n",
    "            name = 'bn_{}'.format(i)\n",
    "        else:\n",
    "            raise RuntimeError('Unrecognized layer: {}'.format(layer.__class__.__name__))\n",
    "\n",
    "        model.add_module(name, layer)\n",
    "\n",
    "        if name in content_layers:\n",
    "            # add content loss:\n",
    "            target = model(content_img).detach()\n",
    "            content_loss = ContentLoss(target)\n",
    "            model.add_module(\"content_loss_{}\".format(i), content_loss)\n",
    "            content_losses.append(content_loss)\n",
    "\n",
    "        if name in style_layers:\n",
    "            # add style loss:\n",
    "            target_feature = model(style_img).detach()\n",
    "            style_loss = StyleLoss(target_feature)\n",
    "            model.add_module(\"style_loss_{}\".format(i), style_loss)\n",
    "            style_losses.append(style_loss)\n",
    "\n",
    "    # now we trim off the layers after the last content and style losses\n",
    "    for i in range(len(model) - 1, -1, -1):\n",
    "        if isinstance(model[i], ContentLoss) or isinstance(model[i], StyleLoss):\n",
    "            break\n",
    "\n",
    "    model = model[:(i + 1)]\n",
    "\n",
    "    return model, style_losses, content_losses\n",
    "\n",
    "\n",
    "def get_input_optimizer(input_img):\n",
    "    # this line to show that input is a parameter that requires a gradient\n",
    "    optimizer = optim.LBFGS([input_img.requires_grad_()], lr=1)\n",
    "    return optimizer\n",
    "\n",
    "\n",
    "def run_style_transfer(cnn, normalization_mean, normalization_std,\n",
    "                       content_img, style_img, input_img, num_steps=300,\n",
    "                       style_weight=1000000, content_weight=1, tmp_dir=False,\n",
    "                       log_grain=None):\n",
    "    \n",
    "    \"\"\"\n",
    "    Run the style transfer.\n",
    "    This function takes a optional tmp_dir parameter. If this parameter is \n",
    "        specified, then intermediate results (at every `log_gain` steps) will \n",
    "        be saved to the location specified in the parameter. If the parameter \n",
    "        is set to False, then no intermediate results will be saved to disk.\n",
    "    \"\"\"\n",
    "    \n",
    "    print('Building the style transfer model..')\n",
    "    model, style_losses, content_losses = get_style_model_and_losses(cnn,\n",
    "        normalization_mean, normalization_std, style_img, content_img)\n",
    "    optimizer = get_input_optimizer(input_img)\n",
    "    \n",
    "    print('Optimizing..')\n",
    "    run = [0]\n",
    "    \n",
    "    # save content & style loss for each step\n",
    "    content_loss = []\n",
    "    style_loss = []\n",
    "    total_loss = []\n",
    "    \n",
    "    while run[0] <= num_steps:\n",
    "\n",
    "        def closure():\n",
    "            # correct the values of updated input image\n",
    "            input_img.data.clamp_(0, 1)\n",
    "\n",
    "            optimizer.zero_grad()\n",
    "            model(input_img)\n",
    "            style_score = 0\n",
    "            content_score = 0\n",
    "\n",
    "            for sl in style_losses:\n",
    "                style_score += sl.loss\n",
    "            for cl in content_losses:\n",
    "                content_score += cl.loss\n",
    "\n",
    "            style_score *= style_weight\n",
    "            content_score *= content_weight\n",
    "\n",
    "            loss = style_score + content_score\n",
    "            loss.backward()\n",
    "\n",
    "            run[0] += 1\n",
    "            if log_grain:\n",
    "                if run[0] % log_grain == 0:\n",
    "                    print('run #{} - Style Loss : {:4f} Content Loss: {:4f}'.format(\n",
    "                        run, style_score.item(), content_score.item()))\n",
    "\n",
    "                    # save tmp folder\n",
    "                    if tmp_dir:\n",
    "                        if not os.path.exists(tmp_dir):\n",
    "                            os.makedirs(tmp_dir)\n",
    "                        util.save_image(input_img, '{0}/tmp_{1:0>4}.jpg'.format(tmp_dir, run[0]))\n",
    "\n",
    "            # save content & style loss\n",
    "            content_loss.append(content_score.item())\n",
    "            style_loss.append(style_score.item())\n",
    "            total_loss.append(content_score.item() + style_score.item())\n",
    "            \n",
    "            return style_score + content_score\n",
    "\n",
    "        optimizer.step(closure)\n",
    "\n",
    "    # a last correction...\n",
    "    input_img.data.clamp_(0, 1)\n",
    "\n",
    "    return input_img, content_loss, style_loss, total_loss"
   ]
  },
  {
   "cell_type": "markdown",
   "metadata": {},
   "source": [
    "## Main Process: Load content/style images & apply style transfer"
   ]
  },
  {
   "cell_type": "markdown",
   "metadata": {},
   "source": [
    "Setup image transformations"
   ]
  },
  {
   "cell_type": "code",
   "execution_count": null,
   "metadata": {},
   "outputs": [],
   "source": [
    "loader = transforms.Compose([\n",
    "    transforms.Resize(IMAGE_SIZE),  # scale imported image\n",
    "    transforms.CenterCrop(IMAGE_SIZE), # crop on center\n",
    "    transforms.ToTensor()])  # transform it into a torch tensor"
   ]
  },
  {
   "cell_type": "markdown",
   "metadata": {},
   "source": [
    "Setup content image loader"
   ]
  },
  {
   "cell_type": "code",
   "execution_count": null,
   "metadata": {},
   "outputs": [],
   "source": [
    "content_img_set = ContentDataset(root_dir=CONTENT_IMAGE_DIR, files=CONTENT_IMAGE_LIST, transform=loader)\n",
    "content_img_loader = DataLoader(content_img_set, batch_size=1, shuffle=False, num_workers=1)"
   ]
  },
  {
   "cell_type": "markdown",
   "metadata": {},
   "source": [
    "Load style image"
   ]
  },
  {
   "cell_type": "code",
   "execution_count": null,
   "metadata": {},
   "outputs": [],
   "source": [
    "style_img = loader(Image.open(STYLE_IMAGE)).unsqueeze(0).to(device, torch.float)"
   ]
  },
  {
   "cell_type": "markdown",
   "metadata": {},
   "source": [
    "Run style transfer"
   ]
  },
  {
   "cell_type": "code",
   "execution_count": null,
   "metadata": {},
   "outputs": [],
   "source": [
    "%%time\n",
    "\n",
    "# use vgg19\n",
    "cnn = models.vgg19(pretrained=True).features.to(device).eval()\n",
    "\n",
    "# VGG networks are trained on images with each channel \n",
    "# normalized by mean=[0.485, 0.456, 0.406] and std=[0.229, 0.224, 0.225]. \n",
    "cnn_normalization_mean = torch.tensor([0.485, 0.456, 0.406]).to(device)\n",
    "cnn_normalization_std = torch.tensor([0.229, 0.224, 0.225]).to(device)\n",
    "\n",
    "# store image outputs in memory\n",
    "output_imgs = []\n",
    "content_imgs = []\n",
    "\n",
    "for content_img_batch, content_filename_batch in content_img_loader:\n",
    "\n",
    "    # load image and add image to content image array\n",
    "    content_img = content_img_batch[0].unsqueeze(0).to(device, torch.float)\n",
    "    content_filename = content_filename_batch[0]\n",
    "    content_imgs.append(content_img)\n",
    "\n",
    "    # use white noise image as input image:\n",
    "    # input_img = torch.randn(content_img.data.size(), device=device)\n",
    "    # use content image as input image:\n",
    "    input_img = content_img.clone()\n",
    "\n",
    "    # style transfer!\n",
    "    output, content_loss, style_loss, total_loss = run_style_transfer(\\\n",
    "        cnn, cnn_normalization_mean, cnn_normalization_std,\n",
    "        content_img, style_img, input_img, num_steps=NUM_STEPS,\n",
    "        style_weight=STYLE_WEIGHT, content_weight=CONTENT_WEIGHT,\n",
    "        tmp_dir=None, log_grain=None)\n",
    "\n",
    "    # add output image to array\n",
    "    output_imgs.append(output)\n",
    "\n",
    "    # save output image\n",
    "    util.save_image(output, os.path.join(OUTPUT_DIR, '{0}.jpg'.format(content_filename.split('.')[0])))"
   ]
  },
  {
   "cell_type": "markdown",
   "metadata": {},
   "source": [
    "We can plot the content loss, style loss, and total loss with each step of optimization. This will give us a better sense of how many steps we need to run before the improvement is negligible."
   ]
  },
  {
   "cell_type": "code",
   "execution_count": null,
   "metadata": {},
   "outputs": [],
   "source": [
    "import matplotlib.pyplot as plt\n",
    "import numpy as np\n",
    "\n",
    "fig = plt.figure(figsize=(12, 8))\n",
    "\n",
    "ax1 = fig.add_subplot(2,1,1)\n",
    "\n",
    "color = 'tab:red'\n",
    "ax1.set_xlabel('num_steps')\n",
    "ax1.set_ylabel('content_loss', color=color)\n",
    "ax1.plot(content_loss, color=color)\n",
    "ax1.tick_params(axis='y', labelcolor=color)\n",
    "\n",
    "ax2 = ax1.twinx()\n",
    "\n",
    "color = 'tab:blue'\n",
    "ax2.set_ylabel('style_loss', color=color)\n",
    "ax2.plot(style_loss, color=color)\n",
    "ax2.tick_params(axis='y', labelcolor=color)\n",
    "\n",
    "ax3 = fig.add_subplot(2,1,2)\n",
    "\n",
    "color='tab:green'\n",
    "ax3.set_ylabel('total_loss', color=color)\n",
    "ax3.set_xlabel('num_steps', color=color)\n",
    "ax3.plot(total_loss, color=color)\n",
    "ax3.tick_params(axis='y', labelcolor=color)\n",
    "\n",
    "fig.tight_layout()\n",
    "plt.show()"
   ]
  },
  {
   "cell_type": "markdown",
   "metadata": {},
   "source": [
    "## View the images! (Used to test and tune style transfer parameters)"
   ]
  },
  {
   "cell_type": "code",
   "execution_count": null,
   "metadata": {},
   "outputs": [],
   "source": [
    "unloader = transforms.ToPILImage()  # reconvert into PIL image\n",
    "\n",
    "plt.ion() # interactive on\n",
    "\n",
    "def imshow(tensor, title=\"\", ax=None):\n",
    "    image = tensor.cpu().clone()  # we clone the tensor to not do changes on it\n",
    "    image = image.squeeze(0)      # remove the fake batch dimension\n",
    "    image = unloader(image)\n",
    "    plt.title(title)\n",
    "    if ax:\n",
    "        ax.imshow(image)\n",
    "    else:\n",
    "        plt.imshow(image)\n",
    "        plt.pause(0.001) # pause a bit so that plots are updated\n",
    "\n",
    "# plot style\n",
    "plt.figure()\n",
    "imshow(style_img, title='Style Image')\n",
    "\n",
    "# plot content & output images\n",
    "for i, (c, o) in enumerate(zip(content_imgs, output_imgs)):\n",
    "    fig = plt.figure(figsize=(12,8))\n",
    "    ax1 = fig.add_subplot(121)\n",
    "    imshow(c, title='content image {}'.format(i), ax=ax1)\n",
    "    ax2 = fig.add_subplot(122)\n",
    "    imshow(o, title='style transfer image {}'.format(i), ax=ax2)\n"
   ]
  },
  {
   "cell_type": "code",
   "execution_count": null,
   "metadata": {},
   "outputs": [],
   "source": []
  }
 ],
 "metadata": {
  "kernelspec": {
   "display_name": "Python [conda env:batchscoringdl]",
   "language": "python",
   "name": "conda-env-batchscoringdl-py"
  },
  "language_info": {
   "codemirror_mode": {
    "name": "ipython",
    "version": 3
   },
   "file_extension": ".py",
   "mimetype": "text/x-python",
   "name": "python",
   "nbconvert_exporter": "python",
   "pygments_lexer": "ipython3",
   "version": "3.6.6"
  }
 },
 "nbformat": 4,
 "nbformat_minor": 2
}
